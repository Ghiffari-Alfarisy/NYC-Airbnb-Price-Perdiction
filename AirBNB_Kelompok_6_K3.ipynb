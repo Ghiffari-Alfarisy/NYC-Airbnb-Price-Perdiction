{
  "nbformat": 4,
  "nbformat_minor": 0,
  "metadata": {
    "colab": {
      "name": "AirBNB_Kelompok_6_K3.ipynb",
      "provenance": [],
      "collapsed_sections": []
    },
    "kernelspec": {
      "display_name": "Python 3",
      "name": "python3"
    },
    "accelerator": "GPU"
  },
  "cells": [
    {
      "cell_type": "code",
      "metadata": {
        "id": "sefYiaYGLTl2"
      },
      "source": [
        "import pandas as pd\n",
        "import numpy as np\n",
        "import matplotlib.pyplot as plt\n",
        "import seaborn as sns\n",
        "from sklearn.linear_model import LinearRegression\n",
        "from sklearn import linear_model"
      ],
      "execution_count": 31,
      "outputs": []
    },
    {
      "cell_type": "code",
      "metadata": {
        "id": "w8lSpKihMMkg",
        "outputId": "5165ceb7-7c7a-4921-d769-f7205acadef2",
        "colab": {
          "base_uri": "https://localhost:8080/",
          "height": 34
        }
      },
      "source": [
        "# mounting google drive\n",
        "from google.colab import drive\n",
        "drive.mount('/content/drive')"
      ],
      "execution_count": 32,
      "outputs": [
        {
          "output_type": "stream",
          "text": [
            "Drive already mounted at /content/drive; to attempt to forcibly remount, call drive.mount(\"/content/drive\", force_remount=True).\n"
          ],
          "name": "stdout"
        }
      ]
    },
    {
      "cell_type": "markdown",
      "metadata": {
        "id": "QZBEVWcgqS-9"
      },
      "source": [
        "#Read and Cleaning data\n",
        "\n",
        "\n"
      ]
    },
    {
      "cell_type": "code",
      "metadata": {
        "id": "0f8yL2_YL4xN",
        "outputId": "485a3146-7eb3-44f2-a2a0-1fcf375474c3",
        "colab": {
          "base_uri": "https://localhost:8080/",
          "height": 793
        }
      },
      "source": [
        "nyc_data = pd.read_csv('/content/drive/My Drive/Data Science/Airbnb Price Prediction/AB_NYC_2019.csv')\n",
        "nyc_data"
      ],
      "execution_count": 33,
      "outputs": [
        {
          "output_type": "execute_result",
          "data": {
            "text/html": [
              "<div>\n",
              "<style scoped>\n",
              "    .dataframe tbody tr th:only-of-type {\n",
              "        vertical-align: middle;\n",
              "    }\n",
              "\n",
              "    .dataframe tbody tr th {\n",
              "        vertical-align: top;\n",
              "    }\n",
              "\n",
              "    .dataframe thead th {\n",
              "        text-align: right;\n",
              "    }\n",
              "</style>\n",
              "<table border=\"1\" class=\"dataframe\">\n",
              "  <thead>\n",
              "    <tr style=\"text-align: right;\">\n",
              "      <th></th>\n",
              "      <th>id</th>\n",
              "      <th>name</th>\n",
              "      <th>host_id</th>\n",
              "      <th>host_name</th>\n",
              "      <th>neighbourhood_group</th>\n",
              "      <th>neighbourhood</th>\n",
              "      <th>latitude</th>\n",
              "      <th>longitude</th>\n",
              "      <th>room_type</th>\n",
              "      <th>price</th>\n",
              "      <th>minimum_nights</th>\n",
              "      <th>number_of_reviews</th>\n",
              "      <th>last_review</th>\n",
              "      <th>reviews_per_month</th>\n",
              "      <th>calculated_host_listings_count</th>\n",
              "      <th>availability_365</th>\n",
              "    </tr>\n",
              "  </thead>\n",
              "  <tbody>\n",
              "    <tr>\n",
              "      <th>0</th>\n",
              "      <td>2539</td>\n",
              "      <td>Clean &amp; quiet apt home by the park</td>\n",
              "      <td>2787</td>\n",
              "      <td>John</td>\n",
              "      <td>Brooklyn</td>\n",
              "      <td>Kensington</td>\n",
              "      <td>40.64749</td>\n",
              "      <td>-73.97237</td>\n",
              "      <td>Private room</td>\n",
              "      <td>149</td>\n",
              "      <td>1</td>\n",
              "      <td>9</td>\n",
              "      <td>2018-10-19</td>\n",
              "      <td>0.21</td>\n",
              "      <td>6</td>\n",
              "      <td>365</td>\n",
              "    </tr>\n",
              "    <tr>\n",
              "      <th>1</th>\n",
              "      <td>2595</td>\n",
              "      <td>Skylit Midtown Castle</td>\n",
              "      <td>2845</td>\n",
              "      <td>Jennifer</td>\n",
              "      <td>Manhattan</td>\n",
              "      <td>Midtown</td>\n",
              "      <td>40.75362</td>\n",
              "      <td>-73.98377</td>\n",
              "      <td>Entire home/apt</td>\n",
              "      <td>225</td>\n",
              "      <td>1</td>\n",
              "      <td>45</td>\n",
              "      <td>2019-05-21</td>\n",
              "      <td>0.38</td>\n",
              "      <td>2</td>\n",
              "      <td>355</td>\n",
              "    </tr>\n",
              "    <tr>\n",
              "      <th>2</th>\n",
              "      <td>3647</td>\n",
              "      <td>THE VILLAGE OF HARLEM....NEW YORK !</td>\n",
              "      <td>4632</td>\n",
              "      <td>Elisabeth</td>\n",
              "      <td>Manhattan</td>\n",
              "      <td>Harlem</td>\n",
              "      <td>40.80902</td>\n",
              "      <td>-73.94190</td>\n",
              "      <td>Private room</td>\n",
              "      <td>150</td>\n",
              "      <td>3</td>\n",
              "      <td>0</td>\n",
              "      <td>NaN</td>\n",
              "      <td>NaN</td>\n",
              "      <td>1</td>\n",
              "      <td>365</td>\n",
              "    </tr>\n",
              "    <tr>\n",
              "      <th>3</th>\n",
              "      <td>3831</td>\n",
              "      <td>Cozy Entire Floor of Brownstone</td>\n",
              "      <td>4869</td>\n",
              "      <td>LisaRoxanne</td>\n",
              "      <td>Brooklyn</td>\n",
              "      <td>Clinton Hill</td>\n",
              "      <td>40.68514</td>\n",
              "      <td>-73.95976</td>\n",
              "      <td>Entire home/apt</td>\n",
              "      <td>89</td>\n",
              "      <td>1</td>\n",
              "      <td>270</td>\n",
              "      <td>2019-07-05</td>\n",
              "      <td>4.64</td>\n",
              "      <td>1</td>\n",
              "      <td>194</td>\n",
              "    </tr>\n",
              "    <tr>\n",
              "      <th>4</th>\n",
              "      <td>5022</td>\n",
              "      <td>Entire Apt: Spacious Studio/Loft by central park</td>\n",
              "      <td>7192</td>\n",
              "      <td>Laura</td>\n",
              "      <td>Manhattan</td>\n",
              "      <td>East Harlem</td>\n",
              "      <td>40.79851</td>\n",
              "      <td>-73.94399</td>\n",
              "      <td>Entire home/apt</td>\n",
              "      <td>80</td>\n",
              "      <td>10</td>\n",
              "      <td>9</td>\n",
              "      <td>2018-11-19</td>\n",
              "      <td>0.10</td>\n",
              "      <td>1</td>\n",
              "      <td>0</td>\n",
              "    </tr>\n",
              "    <tr>\n",
              "      <th>...</th>\n",
              "      <td>...</td>\n",
              "      <td>...</td>\n",
              "      <td>...</td>\n",
              "      <td>...</td>\n",
              "      <td>...</td>\n",
              "      <td>...</td>\n",
              "      <td>...</td>\n",
              "      <td>...</td>\n",
              "      <td>...</td>\n",
              "      <td>...</td>\n",
              "      <td>...</td>\n",
              "      <td>...</td>\n",
              "      <td>...</td>\n",
              "      <td>...</td>\n",
              "      <td>...</td>\n",
              "      <td>...</td>\n",
              "    </tr>\n",
              "    <tr>\n",
              "      <th>48890</th>\n",
              "      <td>36484665</td>\n",
              "      <td>Charming one bedroom - newly renovated rowhouse</td>\n",
              "      <td>8232441</td>\n",
              "      <td>Sabrina</td>\n",
              "      <td>Brooklyn</td>\n",
              "      <td>Bedford-Stuyvesant</td>\n",
              "      <td>40.67853</td>\n",
              "      <td>-73.94995</td>\n",
              "      <td>Private room</td>\n",
              "      <td>70</td>\n",
              "      <td>2</td>\n",
              "      <td>0</td>\n",
              "      <td>NaN</td>\n",
              "      <td>NaN</td>\n",
              "      <td>2</td>\n",
              "      <td>9</td>\n",
              "    </tr>\n",
              "    <tr>\n",
              "      <th>48891</th>\n",
              "      <td>36485057</td>\n",
              "      <td>Affordable room in Bushwick/East Williamsburg</td>\n",
              "      <td>6570630</td>\n",
              "      <td>Marisol</td>\n",
              "      <td>Brooklyn</td>\n",
              "      <td>Bushwick</td>\n",
              "      <td>40.70184</td>\n",
              "      <td>-73.93317</td>\n",
              "      <td>Private room</td>\n",
              "      <td>40</td>\n",
              "      <td>4</td>\n",
              "      <td>0</td>\n",
              "      <td>NaN</td>\n",
              "      <td>NaN</td>\n",
              "      <td>2</td>\n",
              "      <td>36</td>\n",
              "    </tr>\n",
              "    <tr>\n",
              "      <th>48892</th>\n",
              "      <td>36485431</td>\n",
              "      <td>Sunny Studio at Historical Neighborhood</td>\n",
              "      <td>23492952</td>\n",
              "      <td>Ilgar &amp; Aysel</td>\n",
              "      <td>Manhattan</td>\n",
              "      <td>Harlem</td>\n",
              "      <td>40.81475</td>\n",
              "      <td>-73.94867</td>\n",
              "      <td>Entire home/apt</td>\n",
              "      <td>115</td>\n",
              "      <td>10</td>\n",
              "      <td>0</td>\n",
              "      <td>NaN</td>\n",
              "      <td>NaN</td>\n",
              "      <td>1</td>\n",
              "      <td>27</td>\n",
              "    </tr>\n",
              "    <tr>\n",
              "      <th>48893</th>\n",
              "      <td>36485609</td>\n",
              "      <td>43rd St. Time Square-cozy single bed</td>\n",
              "      <td>30985759</td>\n",
              "      <td>Taz</td>\n",
              "      <td>Manhattan</td>\n",
              "      <td>Hell's Kitchen</td>\n",
              "      <td>40.75751</td>\n",
              "      <td>-73.99112</td>\n",
              "      <td>Shared room</td>\n",
              "      <td>55</td>\n",
              "      <td>1</td>\n",
              "      <td>0</td>\n",
              "      <td>NaN</td>\n",
              "      <td>NaN</td>\n",
              "      <td>6</td>\n",
              "      <td>2</td>\n",
              "    </tr>\n",
              "    <tr>\n",
              "      <th>48894</th>\n",
              "      <td>36487245</td>\n",
              "      <td>Trendy duplex in the very heart of Hell's Kitchen</td>\n",
              "      <td>68119814</td>\n",
              "      <td>Christophe</td>\n",
              "      <td>Manhattan</td>\n",
              "      <td>Hell's Kitchen</td>\n",
              "      <td>40.76404</td>\n",
              "      <td>-73.98933</td>\n",
              "      <td>Private room</td>\n",
              "      <td>90</td>\n",
              "      <td>7</td>\n",
              "      <td>0</td>\n",
              "      <td>NaN</td>\n",
              "      <td>NaN</td>\n",
              "      <td>1</td>\n",
              "      <td>23</td>\n",
              "    </tr>\n",
              "  </tbody>\n",
              "</table>\n",
              "<p>48895 rows × 16 columns</p>\n",
              "</div>"
            ],
            "text/plain": [
              "             id  ... availability_365\n",
              "0          2539  ...              365\n",
              "1          2595  ...              355\n",
              "2          3647  ...              365\n",
              "3          3831  ...              194\n",
              "4          5022  ...                0\n",
              "...         ...  ...              ...\n",
              "48890  36484665  ...                9\n",
              "48891  36485057  ...               36\n",
              "48892  36485431  ...               27\n",
              "48893  36485609  ...                2\n",
              "48894  36487245  ...               23\n",
              "\n",
              "[48895 rows x 16 columns]"
            ]
          },
          "metadata": {
            "tags": []
          },
          "execution_count": 33
        }
      ]
    },
    {
      "cell_type": "code",
      "metadata": {
        "id": "mLLVNjHXMAtx",
        "outputId": "c4a05a29-2da4-4dba-a0bb-a447a3ec307e",
        "colab": {
          "base_uri": "https://localhost:8080/",
          "height": 425
        }
      },
      "source": [
        "nyc_data.info()"
      ],
      "execution_count": 34,
      "outputs": [
        {
          "output_type": "stream",
          "text": [
            "<class 'pandas.core.frame.DataFrame'>\n",
            "RangeIndex: 48895 entries, 0 to 48894\n",
            "Data columns (total 16 columns):\n",
            " #   Column                          Non-Null Count  Dtype  \n",
            "---  ------                          --------------  -----  \n",
            " 0   id                              48895 non-null  int64  \n",
            " 1   name                            48879 non-null  object \n",
            " 2   host_id                         48895 non-null  int64  \n",
            " 3   host_name                       48874 non-null  object \n",
            " 4   neighbourhood_group             48895 non-null  object \n",
            " 5   neighbourhood                   48895 non-null  object \n",
            " 6   latitude                        48895 non-null  float64\n",
            " 7   longitude                       48895 non-null  float64\n",
            " 8   room_type                       48895 non-null  object \n",
            " 9   price                           48895 non-null  int64  \n",
            " 10  minimum_nights                  48895 non-null  int64  \n",
            " 11  number_of_reviews               48895 non-null  int64  \n",
            " 12  last_review                     38843 non-null  object \n",
            " 13  reviews_per_month               38843 non-null  float64\n",
            " 14  calculated_host_listings_count  48895 non-null  int64  \n",
            " 15  availability_365                48895 non-null  int64  \n",
            "dtypes: float64(3), int64(7), object(6)\n",
            "memory usage: 6.0+ MB\n"
          ],
          "name": "stdout"
        }
      ]
    },
    {
      "cell_type": "code",
      "metadata": {
        "id": "EZftOGDwNp7H",
        "outputId": "33b3f464-c913-4a14-a74c-4655011890e2",
        "colab": {
          "base_uri": "https://localhost:8080/",
          "height": 318
        }
      },
      "source": [
        "nyc_data.isnull().sum()"
      ],
      "execution_count": 35,
      "outputs": [
        {
          "output_type": "execute_result",
          "data": {
            "text/plain": [
              "id                                    0\n",
              "name                                 16\n",
              "host_id                               0\n",
              "host_name                            21\n",
              "neighbourhood_group                   0\n",
              "neighbourhood                         0\n",
              "latitude                              0\n",
              "longitude                             0\n",
              "room_type                             0\n",
              "price                                 0\n",
              "minimum_nights                        0\n",
              "number_of_reviews                     0\n",
              "last_review                       10052\n",
              "reviews_per_month                 10052\n",
              "calculated_host_listings_count        0\n",
              "availability_365                      0\n",
              "dtype: int64"
            ]
          },
          "metadata": {
            "tags": []
          },
          "execution_count": 35
        }
      ]
    },
    {
      "cell_type": "markdown",
      "metadata": {
        "id": "hxTnKuR-Iie3"
      },
      "source": [
        "Kita akan melakukan cleaning dengan mengisi missing data dengan mean. Karena tipe data name, host_name, dan last_review bukan int maka akan di drop. Dan reviews_per_month akan di isi dengan mean."
      ]
    },
    {
      "cell_type": "code",
      "metadata": {
        "id": "GaxBJI_NN3_u",
        "outputId": "3c00ca3f-d123-4b57-b5c3-a4dfd82003a6",
        "colab": {
          "base_uri": "https://localhost:8080/",
          "height": 318
        }
      },
      "source": [
        "nyc_data_cp = nyc_data.copy()\n",
        "nyc_data_cp['reviews_per_month'].fillna(nyc_data_cp['reviews_per_month'].mean(),\n",
        "                                        inplace=True)\n",
        "nyc_data_cp.isnull().sum()"
      ],
      "execution_count": 36,
      "outputs": [
        {
          "output_type": "execute_result",
          "data": {
            "text/plain": [
              "id                                    0\n",
              "name                                 16\n",
              "host_id                               0\n",
              "host_name                            21\n",
              "neighbourhood_group                   0\n",
              "neighbourhood                         0\n",
              "latitude                              0\n",
              "longitude                             0\n",
              "room_type                             0\n",
              "price                                 0\n",
              "minimum_nights                        0\n",
              "number_of_reviews                     0\n",
              "last_review                       10052\n",
              "reviews_per_month                     0\n",
              "calculated_host_listings_count        0\n",
              "availability_365                      0\n",
              "dtype: int64"
            ]
          },
          "metadata": {
            "tags": []
          },
          "execution_count": 36
        }
      ]
    },
    {
      "cell_type": "code",
      "metadata": {
        "id": "XNpA-Uo6LKRK"
      },
      "source": [
        "nyc_data_cp.fillna({'name':'Not Name'}, inplace = True)\n",
        "nyc_data_cp.fillna({'host_name':'Not Host Name'}, inplace = True)\n",
        "nyc_data_cp.fillna({'last_review':'Not Review'}, inplace = True)"
      ],
      "execution_count": 37,
      "outputs": []
    },
    {
      "cell_type": "code",
      "metadata": {
        "id": "JhH_xRC0OP25",
        "outputId": "7b4c2247-2a01-4236-daac-f5e5409165c9",
        "colab": {
          "base_uri": "https://localhost:8080/",
          "height": 318
        }
      },
      "source": [
        "nyc_data_cp = nyc_data_cp.dropna()\n",
        "nyc_data_cp.isnull().sum()"
      ],
      "execution_count": 38,
      "outputs": [
        {
          "output_type": "execute_result",
          "data": {
            "text/plain": [
              "id                                0\n",
              "name                              0\n",
              "host_id                           0\n",
              "host_name                         0\n",
              "neighbourhood_group               0\n",
              "neighbourhood                     0\n",
              "latitude                          0\n",
              "longitude                         0\n",
              "room_type                         0\n",
              "price                             0\n",
              "minimum_nights                    0\n",
              "number_of_reviews                 0\n",
              "last_review                       0\n",
              "reviews_per_month                 0\n",
              "calculated_host_listings_count    0\n",
              "availability_365                  0\n",
              "dtype: int64"
            ]
          },
          "metadata": {
            "tags": []
          },
          "execution_count": 38
        }
      ]
    },
    {
      "cell_type": "markdown",
      "metadata": {
        "id": "pGGpgdAkqq1l"
      },
      "source": [
        "#TEST"
      ]
    },
    {
      "cell_type": "code",
      "metadata": {
        "id": "GPj4KEbWOS4Y",
        "outputId": "f097d1d1-b48c-4c60-f149-33b6fef8826d",
        "colab": {
          "base_uri": "https://localhost:8080/",
          "height": 401
        }
      },
      "source": [
        "nyc_data_cp.head()"
      ],
      "execution_count": 39,
      "outputs": [
        {
          "output_type": "execute_result",
          "data": {
            "text/html": [
              "<div>\n",
              "<style scoped>\n",
              "    .dataframe tbody tr th:only-of-type {\n",
              "        vertical-align: middle;\n",
              "    }\n",
              "\n",
              "    .dataframe tbody tr th {\n",
              "        vertical-align: top;\n",
              "    }\n",
              "\n",
              "    .dataframe thead th {\n",
              "        text-align: right;\n",
              "    }\n",
              "</style>\n",
              "<table border=\"1\" class=\"dataframe\">\n",
              "  <thead>\n",
              "    <tr style=\"text-align: right;\">\n",
              "      <th></th>\n",
              "      <th>id</th>\n",
              "      <th>name</th>\n",
              "      <th>host_id</th>\n",
              "      <th>host_name</th>\n",
              "      <th>neighbourhood_group</th>\n",
              "      <th>neighbourhood</th>\n",
              "      <th>latitude</th>\n",
              "      <th>longitude</th>\n",
              "      <th>room_type</th>\n",
              "      <th>price</th>\n",
              "      <th>minimum_nights</th>\n",
              "      <th>number_of_reviews</th>\n",
              "      <th>last_review</th>\n",
              "      <th>reviews_per_month</th>\n",
              "      <th>calculated_host_listings_count</th>\n",
              "      <th>availability_365</th>\n",
              "    </tr>\n",
              "  </thead>\n",
              "  <tbody>\n",
              "    <tr>\n",
              "      <th>0</th>\n",
              "      <td>2539</td>\n",
              "      <td>Clean &amp; quiet apt home by the park</td>\n",
              "      <td>2787</td>\n",
              "      <td>John</td>\n",
              "      <td>Brooklyn</td>\n",
              "      <td>Kensington</td>\n",
              "      <td>40.64749</td>\n",
              "      <td>-73.97237</td>\n",
              "      <td>Private room</td>\n",
              "      <td>149</td>\n",
              "      <td>1</td>\n",
              "      <td>9</td>\n",
              "      <td>2018-10-19</td>\n",
              "      <td>0.210000</td>\n",
              "      <td>6</td>\n",
              "      <td>365</td>\n",
              "    </tr>\n",
              "    <tr>\n",
              "      <th>1</th>\n",
              "      <td>2595</td>\n",
              "      <td>Skylit Midtown Castle</td>\n",
              "      <td>2845</td>\n",
              "      <td>Jennifer</td>\n",
              "      <td>Manhattan</td>\n",
              "      <td>Midtown</td>\n",
              "      <td>40.75362</td>\n",
              "      <td>-73.98377</td>\n",
              "      <td>Entire home/apt</td>\n",
              "      <td>225</td>\n",
              "      <td>1</td>\n",
              "      <td>45</td>\n",
              "      <td>2019-05-21</td>\n",
              "      <td>0.380000</td>\n",
              "      <td>2</td>\n",
              "      <td>355</td>\n",
              "    </tr>\n",
              "    <tr>\n",
              "      <th>2</th>\n",
              "      <td>3647</td>\n",
              "      <td>THE VILLAGE OF HARLEM....NEW YORK !</td>\n",
              "      <td>4632</td>\n",
              "      <td>Elisabeth</td>\n",
              "      <td>Manhattan</td>\n",
              "      <td>Harlem</td>\n",
              "      <td>40.80902</td>\n",
              "      <td>-73.94190</td>\n",
              "      <td>Private room</td>\n",
              "      <td>150</td>\n",
              "      <td>3</td>\n",
              "      <td>0</td>\n",
              "      <td>Not Review</td>\n",
              "      <td>1.373221</td>\n",
              "      <td>1</td>\n",
              "      <td>365</td>\n",
              "    </tr>\n",
              "    <tr>\n",
              "      <th>3</th>\n",
              "      <td>3831</td>\n",
              "      <td>Cozy Entire Floor of Brownstone</td>\n",
              "      <td>4869</td>\n",
              "      <td>LisaRoxanne</td>\n",
              "      <td>Brooklyn</td>\n",
              "      <td>Clinton Hill</td>\n",
              "      <td>40.68514</td>\n",
              "      <td>-73.95976</td>\n",
              "      <td>Entire home/apt</td>\n",
              "      <td>89</td>\n",
              "      <td>1</td>\n",
              "      <td>270</td>\n",
              "      <td>2019-07-05</td>\n",
              "      <td>4.640000</td>\n",
              "      <td>1</td>\n",
              "      <td>194</td>\n",
              "    </tr>\n",
              "    <tr>\n",
              "      <th>4</th>\n",
              "      <td>5022</td>\n",
              "      <td>Entire Apt: Spacious Studio/Loft by central park</td>\n",
              "      <td>7192</td>\n",
              "      <td>Laura</td>\n",
              "      <td>Manhattan</td>\n",
              "      <td>East Harlem</td>\n",
              "      <td>40.79851</td>\n",
              "      <td>-73.94399</td>\n",
              "      <td>Entire home/apt</td>\n",
              "      <td>80</td>\n",
              "      <td>10</td>\n",
              "      <td>9</td>\n",
              "      <td>2018-11-19</td>\n",
              "      <td>0.100000</td>\n",
              "      <td>1</td>\n",
              "      <td>0</td>\n",
              "    </tr>\n",
              "  </tbody>\n",
              "</table>\n",
              "</div>"
            ],
            "text/plain": [
              "     id  ... availability_365\n",
              "0  2539  ...              365\n",
              "1  2595  ...              355\n",
              "2  3647  ...              365\n",
              "3  3831  ...              194\n",
              "4  5022  ...                0\n",
              "\n",
              "[5 rows x 16 columns]"
            ]
          },
          "metadata": {
            "tags": []
          },
          "execution_count": 39
        }
      ]
    },
    {
      "cell_type": "code",
      "metadata": {
        "id": "bQGdRgczqucG",
        "outputId": "61287949-7241-4f0f-fefc-25663390c142",
        "colab": {
          "base_uri": "https://localhost:8080/",
          "height": 441
        }
      },
      "source": [
        "plt.figure(figsize = (25,22))\n",
        "sns.catplot(x='neighbourhood_group',y='price', hue='room_type',\n",
        "            data=nyc_data_cp.sort_values(\n",
        "            by='price' ,ascending=False, axis=0,  \n",
        "            ),kind='bar')\n",
        "\n",
        "plt.xlabel('Neighbourhood' , size=15)\n",
        "plt.ylabel('price' , size=15)\n",
        "plt.title('Price vs Neghbourhood vs Room Type' , size = 15, weight = 'bold')"
      ],
      "execution_count": 40,
      "outputs": [
        {
          "output_type": "execute_result",
          "data": {
            "text/plain": [
              "Text(0.5, 1.0, 'Price vs Neghbourhood vs Room Type')"
            ]
          },
          "metadata": {
            "tags": []
          },
          "execution_count": 40
        },
        {
          "output_type": "display_data",
          "data": {
            "text/plain": [
              "<Figure size 1800x1584 with 0 Axes>"
            ]
          },
          "metadata": {
            "tags": []
          }
        },
        {
          "output_type": "display_data",
          "data": {
            "image/png": "[encoded data removed]",
            "text/plain": [
              "<Figure size 476.25x360 with 1 Axes>"
            ]
          },
          "metadata": {
            "tags": [],
            "needs_background": "light"
          }
        }
      ]
    },
    {
      "cell_type": "markdown",
      "metadata": {
        "id": "qIx4e42Aw_QR"
      },
      "source": [
        "Harga tergantung dari tipe kamar dan tempat tersebut berada dimana."
      ]
    },
    {
      "cell_type": "code",
      "metadata": {
        "id": "DX4B3Pre1JhF",
        "outputId": "2f54631b-1a1f-4ac0-b008-f701219a6316",
        "colab": {
          "base_uri": "https://localhost:8080/",
          "height": 404
        }
      },
      "source": [
        "plt.figure(figsize = (25,22))\n",
        "sns.displot (data=nyc_data_cp.sort_values(by='price',ascending=True, axis=0).head(100), \n",
        "                 x='number_of_reviews', \n",
        "                 hue='neighbourhood_group', multiple='stack')"
      ],
      "execution_count": 41,
      "outputs": [
        {
          "output_type": "execute_result",
          "data": {
            "text/plain": [
              "<seaborn.axisgrid.FacetGrid at 0x7f1ef3fec668>"
            ]
          },
          "metadata": {
            "tags": []
          },
          "execution_count": 41
        },
        {
          "output_type": "display_data",
          "data": {
            "text/plain": [
              "<Figure size 1800x1584 with 0 Axes>"
            ]
          },
          "metadata": {
            "tags": []
          }
        },
        {
          "output_type": "display_data",
          "data": {
            "image/png": "[encoded data removed]",
            "text/plain": [
              "<Figure size 477.375x360 with 1 Axes>"
            ]
          },
          "metadata": {
            "tags": [],
            "needs_background": "light"
          }
        }
      ]
    },
    {
      "cell_type": "code",
      "metadata": {
        "id": "peXCXdphrMIO",
        "outputId": "a47ffa41-21c7-4239-ddae-b2e65c02008c",
        "colab": {
          "base_uri": "https://localhost:8080/",
          "height": 926
        }
      },
      "source": [
        "nyc_data_cp.sort_values(by='price',ascending=False, axis=0)"
      ],
      "execution_count": 42,
      "outputs": [
        {
          "output_type": "execute_result",
          "data": {
            "text/html": [
              "<div>\n",
              "<style scoped>\n",
              "    .dataframe tbody tr th:only-of-type {\n",
              "        vertical-align: middle;\n",
              "    }\n",
              "\n",
              "    .dataframe tbody tr th {\n",
              "        vertical-align: top;\n",
              "    }\n",
              "\n",
              "    .dataframe thead th {\n",
              "        text-align: right;\n",
              "    }\n",
              "</style>\n",
              "<table border=\"1\" class=\"dataframe\">\n",
              "  <thead>\n",
              "    <tr style=\"text-align: right;\">\n",
              "      <th></th>\n",
              "      <th>id</th>\n",
              "      <th>name</th>\n",
              "      <th>host_id</th>\n",
              "      <th>host_name</th>\n",
              "      <th>neighbourhood_group</th>\n",
              "      <th>neighbourhood</th>\n",
              "      <th>latitude</th>\n",
              "      <th>longitude</th>\n",
              "      <th>room_type</th>\n",
              "      <th>price</th>\n",
              "      <th>minimum_nights</th>\n",
              "      <th>number_of_reviews</th>\n",
              "      <th>last_review</th>\n",
              "      <th>reviews_per_month</th>\n",
              "      <th>calculated_host_listings_count</th>\n",
              "      <th>availability_365</th>\n",
              "    </tr>\n",
              "  </thead>\n",
              "  <tbody>\n",
              "    <tr>\n",
              "      <th>9151</th>\n",
              "      <td>7003697</td>\n",
              "      <td>Furnished room in Astoria apartment</td>\n",
              "      <td>20582832</td>\n",
              "      <td>Kathrine</td>\n",
              "      <td>Queens</td>\n",
              "      <td>Astoria</td>\n",
              "      <td>40.76810</td>\n",
              "      <td>-73.91651</td>\n",
              "      <td>Private room</td>\n",
              "      <td>10000</td>\n",
              "      <td>100</td>\n",
              "      <td>2</td>\n",
              "      <td>2016-02-13</td>\n",
              "      <td>0.040000</td>\n",
              "      <td>1</td>\n",
              "      <td>0</td>\n",
              "    </tr>\n",
              "    <tr>\n",
              "      <th>17692</th>\n",
              "      <td>13894339</td>\n",
              "      <td>Luxury 1 bedroom apt. -stunning Manhattan views</td>\n",
              "      <td>5143901</td>\n",
              "      <td>Erin</td>\n",
              "      <td>Brooklyn</td>\n",
              "      <td>Greenpoint</td>\n",
              "      <td>40.73260</td>\n",
              "      <td>-73.95739</td>\n",
              "      <td>Entire home/apt</td>\n",
              "      <td>10000</td>\n",
              "      <td>5</td>\n",
              "      <td>5</td>\n",
              "      <td>2017-07-27</td>\n",
              "      <td>0.160000</td>\n",
              "      <td>1</td>\n",
              "      <td>0</td>\n",
              "    </tr>\n",
              "    <tr>\n",
              "      <th>29238</th>\n",
              "      <td>22436899</td>\n",
              "      <td>1-BR Lincoln Center</td>\n",
              "      <td>72390391</td>\n",
              "      <td>Jelena</td>\n",
              "      <td>Manhattan</td>\n",
              "      <td>Upper West Side</td>\n",
              "      <td>40.77213</td>\n",
              "      <td>-73.98665</td>\n",
              "      <td>Entire home/apt</td>\n",
              "      <td>10000</td>\n",
              "      <td>30</td>\n",
              "      <td>0</td>\n",
              "      <td>Not Review</td>\n",
              "      <td>1.373221</td>\n",
              "      <td>1</td>\n",
              "      <td>83</td>\n",
              "    </tr>\n",
              "    <tr>\n",
              "      <th>40433</th>\n",
              "      <td>31340283</td>\n",
              "      <td>2br - The Heart of NYC: Manhattans Lower East ...</td>\n",
              "      <td>4382127</td>\n",
              "      <td>Matt</td>\n",
              "      <td>Manhattan</td>\n",
              "      <td>Lower East Side</td>\n",
              "      <td>40.71980</td>\n",
              "      <td>-73.98566</td>\n",
              "      <td>Entire home/apt</td>\n",
              "      <td>9999</td>\n",
              "      <td>30</td>\n",
              "      <td>0</td>\n",
              "      <td>Not Review</td>\n",
              "      <td>1.373221</td>\n",
              "      <td>1</td>\n",
              "      <td>365</td>\n",
              "    </tr>\n",
              "    <tr>\n",
              "      <th>12342</th>\n",
              "      <td>9528920</td>\n",
              "      <td>Quiet, Clean, Lit @ LES &amp; Chinatown</td>\n",
              "      <td>3906464</td>\n",
              "      <td>Amy</td>\n",
              "      <td>Manhattan</td>\n",
              "      <td>Lower East Side</td>\n",
              "      <td>40.71355</td>\n",
              "      <td>-73.98507</td>\n",
              "      <td>Private room</td>\n",
              "      <td>9999</td>\n",
              "      <td>99</td>\n",
              "      <td>6</td>\n",
              "      <td>2016-01-01</td>\n",
              "      <td>0.140000</td>\n",
              "      <td>1</td>\n",
              "      <td>83</td>\n",
              "    </tr>\n",
              "    <tr>\n",
              "      <th>...</th>\n",
              "      <td>...</td>\n",
              "      <td>...</td>\n",
              "      <td>...</td>\n",
              "      <td>...</td>\n",
              "      <td>...</td>\n",
              "      <td>...</td>\n",
              "      <td>...</td>\n",
              "      <td>...</td>\n",
              "      <td>...</td>\n",
              "      <td>...</td>\n",
              "      <td>...</td>\n",
              "      <td>...</td>\n",
              "      <td>...</td>\n",
              "      <td>...</td>\n",
              "      <td>...</td>\n",
              "      <td>...</td>\n",
              "    </tr>\n",
              "    <tr>\n",
              "      <th>25778</th>\n",
              "      <td>20624541</td>\n",
              "      <td>Modern apartment in the heart of Williamsburg</td>\n",
              "      <td>10132166</td>\n",
              "      <td>Aymeric</td>\n",
              "      <td>Brooklyn</td>\n",
              "      <td>Williamsburg</td>\n",
              "      <td>40.70838</td>\n",
              "      <td>-73.94645</td>\n",
              "      <td>Entire home/apt</td>\n",
              "      <td>0</td>\n",
              "      <td>5</td>\n",
              "      <td>3</td>\n",
              "      <td>2018-01-02</td>\n",
              "      <td>0.150000</td>\n",
              "      <td>1</td>\n",
              "      <td>73</td>\n",
              "    </tr>\n",
              "    <tr>\n",
              "      <th>25796</th>\n",
              "      <td>20639914</td>\n",
              "      <td>Cozy yet spacious private brownstone bedroom</td>\n",
              "      <td>86327101</td>\n",
              "      <td>Adeyemi</td>\n",
              "      <td>Brooklyn</td>\n",
              "      <td>Bedford-Stuyvesant</td>\n",
              "      <td>40.68258</td>\n",
              "      <td>-73.91284</td>\n",
              "      <td>Private room</td>\n",
              "      <td>0</td>\n",
              "      <td>1</td>\n",
              "      <td>95</td>\n",
              "      <td>2019-06-23</td>\n",
              "      <td>4.350000</td>\n",
              "      <td>6</td>\n",
              "      <td>222</td>\n",
              "    </tr>\n",
              "    <tr>\n",
              "      <th>25433</th>\n",
              "      <td>20333471</td>\n",
              "      <td>★Hostel Style Room | Ideal Traveling Buddies★</td>\n",
              "      <td>131697576</td>\n",
              "      <td>Anisha</td>\n",
              "      <td>Bronx</td>\n",
              "      <td>East Morrisania</td>\n",
              "      <td>40.83296</td>\n",
              "      <td>-73.88668</td>\n",
              "      <td>Private room</td>\n",
              "      <td>0</td>\n",
              "      <td>2</td>\n",
              "      <td>55</td>\n",
              "      <td>2019-06-24</td>\n",
              "      <td>2.560000</td>\n",
              "      <td>4</td>\n",
              "      <td>127</td>\n",
              "    </tr>\n",
              "    <tr>\n",
              "      <th>26841</th>\n",
              "      <td>21291569</td>\n",
              "      <td>Coliving in Brooklyn! Modern design / Shared room</td>\n",
              "      <td>101970559</td>\n",
              "      <td>Sergii</td>\n",
              "      <td>Brooklyn</td>\n",
              "      <td>Bushwick</td>\n",
              "      <td>40.69211</td>\n",
              "      <td>-73.90670</td>\n",
              "      <td>Shared room</td>\n",
              "      <td>0</td>\n",
              "      <td>30</td>\n",
              "      <td>2</td>\n",
              "      <td>2019-06-22</td>\n",
              "      <td>0.110000</td>\n",
              "      <td>6</td>\n",
              "      <td>333</td>\n",
              "    </tr>\n",
              "    <tr>\n",
              "      <th>25795</th>\n",
              "      <td>20639792</td>\n",
              "      <td>Contemporary bedroom in brownstone with nice view</td>\n",
              "      <td>86327101</td>\n",
              "      <td>Adeyemi</td>\n",
              "      <td>Brooklyn</td>\n",
              "      <td>Bedford-Stuyvesant</td>\n",
              "      <td>40.68279</td>\n",
              "      <td>-73.91170</td>\n",
              "      <td>Private room</td>\n",
              "      <td>0</td>\n",
              "      <td>1</td>\n",
              "      <td>95</td>\n",
              "      <td>2019-06-21</td>\n",
              "      <td>4.370000</td>\n",
              "      <td>6</td>\n",
              "      <td>232</td>\n",
              "    </tr>\n",
              "  </tbody>\n",
              "</table>\n",
              "<p>48895 rows × 16 columns</p>\n",
              "</div>"
            ],
            "text/plain": [
              "             id  ... availability_365\n",
              "9151    7003697  ...                0\n",
              "17692  13894339  ...                0\n",
              "29238  22436899  ...               83\n",
              "40433  31340283  ...              365\n",
              "12342   9528920  ...               83\n",
              "...         ...  ...              ...\n",
              "25778  20624541  ...               73\n",
              "25796  20639914  ...              222\n",
              "25433  20333471  ...              127\n",
              "26841  21291569  ...              333\n",
              "25795  20639792  ...              232\n",
              "\n",
              "[48895 rows x 16 columns]"
            ]
          },
          "metadata": {
            "tags": []
          },
          "execution_count": 42
        }
      ]
    },
    {
      "cell_type": "markdown",
      "metadata": {
        "id": "CWFjXDsS4EBh"
      },
      "source": [
        "Jumlah review tergantung dari harga kamar dan tipe kamar tersebut. Dapat dilihat tipe Private Room lebih banyak di review dan harganya juga relatif lebih murah."
      ]
    },
    {
      "cell_type": "code",
      "metadata": {
        "id": "XlYuAy_HuEgO",
        "outputId": "79cd749f-1519-450c-e6b1-d97bc822f08c",
        "colab": {
          "base_uri": "https://localhost:8080/",
          "height": 443
        }
      },
      "source": [
        "plt.figure(figsize = (25,22))\n",
        "\n",
        "sns.catplot(x='minimum_nights',y='price', hue='room_type',\n",
        "            data=nyc_data_cp.sort_values(\n",
        "            by='price' ,ascending=False, axis=0,  \n",
        "            ).head(50),kind='bar')\n",
        "\n",
        "plt.xlabel('minimum_nights' , size=15)\n",
        "plt.ylabel('price' , size=15)\n",
        "plt.title('Price vs minimum_nights vs Room Type' , size = 15, weight = 'bold')"
      ],
      "execution_count": 43,
      "outputs": [
        {
          "output_type": "execute_result",
          "data": {
            "text/plain": [
              "Text(0.5, 1.0, 'Price vs minimum_nights vs Room Type')"
            ]
          },
          "metadata": {
            "tags": []
          },
          "execution_count": 43
        },
        {
          "output_type": "display_data",
          "data": {
            "text/plain": [
              "<Figure size 1800x1584 with 0 Axes>"
            ]
          },
          "metadata": {
            "tags": []
          }
        },
        {
          "output_type": "display_data",
          "data": {
            "image/png": "[encoded data removed]",
            "text/plain": [
              "<Figure size 476.25x360 with 1 Axes>"
            ]
          },
          "metadata": {
            "tags": [],
            "needs_background": "light"
          }
        }
      ]
    },
    {
      "cell_type": "code",
      "metadata": {
        "id": "ECSz-CdWgRoq",
        "outputId": "34822481-1674-4461-ee0f-9d12670383c1",
        "colab": {
          "base_uri": "https://localhost:8080/",
          "height": 695
        }
      },
      "source": [
        "sns.countplot(nyc_data_cp['minimum_nights'].head(100), palette=\"plasma\")\n",
        "fig = plt.gcf()\n",
        "fig.set_size_inches(10,10)\n",
        "plt.title('Top 100 Minimum Nights')"
      ],
      "execution_count": 44,
      "outputs": [
        {
          "output_type": "stream",
          "text": [
            "/usr/local/lib/python3.6/dist-packages/seaborn/_decorators.py:43: FutureWarning: Pass the following variable as a keyword arg: x. From version 0.12, the only valid positional argument will be `data`, and passing other arguments without an explicit keyword will result in an error or misinterpretation.\n",
            "  FutureWarning\n"
          ],
          "name": "stderr"
        },
        {
          "output_type": "execute_result",
          "data": {
            "text/plain": [
              "Text(0.5, 1.0, 'Top 100 Minimum Nights')"
            ]
          },
          "metadata": {
            "tags": []
          },
          "execution_count": 44
        },
        {
          "output_type": "display_data",
          "data": {
            "image/png": "[encoded data removed]",
            "text/plain": [
              "<Figure size 720x720 with 1 Axes>"
            ]
          },
          "metadata": {
            "tags": [],
            "needs_background": "light"
          }
        }
      ]
    },
    {
      "cell_type": "code",
      "metadata": {
        "id": "K1FjQRtZgr2J",
        "outputId": "239a75aa-a1e9-4c88-df3f-642cdaa7ee72",
        "colab": {
          "base_uri": "https://localhost:8080/",
          "height": 441
        }
      },
      "source": [
        "plt.figure(figsize = (25,22))\n",
        "sns.catplot(x='neighbourhood_group',y='price', hue='room_type',\n",
        "            data=nyc_data_cp.sort_values(\n",
        "            by='price' ,ascending=False, axis=0,  \n",
        "            ),kind='bar')\n",
        "\n",
        "plt.xlabel('Neighbourhood' , size=15)\n",
        "plt.ylabel('Price' , size=15)\n",
        "plt.title('Neighbourhood vs Price vs Room Type' , size = 15, weight = 'bold')"
      ],
      "execution_count": 45,
      "outputs": [
        {
          "output_type": "execute_result",
          "data": {
            "text/plain": [
              "Text(0.5, 1.0, 'Neighbourhood vs Price vs Room Type')"
            ]
          },
          "metadata": {
            "tags": []
          },
          "execution_count": 45
        },
        {
          "output_type": "display_data",
          "data": {
            "text/plain": [
              "<Figure size 1800x1584 with 0 Axes>"
            ]
          },
          "metadata": {
            "tags": []
          }
        },
        {
          "output_type": "display_data",
          "data": {
            "image/png": "[encoded data removed]",
            "text/plain": [
              "<Figure size 476.25x360 with 1 Axes>"
            ]
          },
          "metadata": {
            "tags": [],
            "needs_background": "light"
          }
        }
      ]
    },
    {
      "cell_type": "code",
      "metadata": {
        "id": "wQ75JQFgjUY_",
        "outputId": "093ed978-baeb-40f9-c79c-16633c3930a3",
        "colab": {
          "base_uri": "https://localhost:8080/",
          "height": 695
        }
      },
      "source": [
        "sns.countplot(nyc_data_cp['neighbourhood_group']=='Manhattan', hue=nyc_data_cp['room_type'])\n",
        "fig = plt.gcf()\n",
        "fig.set_size_inches(10,10)\n",
        "plt.title('Top 100 Minimum Nights')"
      ],
      "execution_count": 46,
      "outputs": [
        {
          "output_type": "stream",
          "text": [
            "/usr/local/lib/python3.6/dist-packages/seaborn/_decorators.py:43: FutureWarning: Pass the following variable as a keyword arg: x. From version 0.12, the only valid positional argument will be `data`, and passing other arguments without an explicit keyword will result in an error or misinterpretation.\n",
            "  FutureWarning\n"
          ],
          "name": "stderr"
        },
        {
          "output_type": "execute_result",
          "data": {
            "text/plain": [
              "Text(0.5, 1.0, 'Top 100 Minimum Nights')"
            ]
          },
          "metadata": {
            "tags": []
          },
          "execution_count": 46
        },
        {
          "output_type": "display_data",
          "data": {
            "image/png": "[encoded data removed]",
            "text/plain": [
              "<Figure size 720x720 with 1 Axes>"
            ]
          },
          "metadata": {
            "tags": [],
            "needs_background": "light"
          }
        }
      ]
    },
    {
      "cell_type": "code",
      "metadata": {
        "id": "PGkp3Dy1nXLt",
        "outputId": "05007d3e-3ec9-454a-9f4f-e32c666e7f56",
        "colab": {
          "base_uri": "https://localhost:8080/",
          "height": 167
        }
      },
      "source": [
        "nyc_data_cp['neighbourhood_group']=='Manhattan'.count()"
      ],
      "execution_count": 52,
      "outputs": [
        {
          "output_type": "error",
          "ename": "TypeError",
          "evalue": "ignored",
          "traceback": [
            "\u001b[0;31m---------------------------------------------------------------------------\u001b[0m",
            "\u001b[0;31mTypeError\u001b[0m                                 Traceback (most recent call last)",
            "\u001b[0;32m<ipython-input-52-53bd8bea88ee>\u001b[0m in \u001b[0;36m<module>\u001b[0;34m()\u001b[0m\n\u001b[0;32m----> 1\u001b[0;31m \u001b[0mnyc_data_cp\u001b[0m\u001b[0;34m[\u001b[0m\u001b[0;34m'neighbourhood_group'\u001b[0m\u001b[0;34m]\u001b[0m\u001b[0;34m==\u001b[0m\u001b[0;34m'Manhattan'\u001b[0m\u001b[0;34m.\u001b[0m\u001b[0mcount\u001b[0m\u001b[0;34m(\u001b[0m\u001b[0;34m)\u001b[0m\u001b[0;34m\u001b[0m\u001b[0;34m\u001b[0m\u001b[0m\n\u001b[0m",
            "\u001b[0;31mTypeError\u001b[0m: count() takes at least 1 argument (0 given)"
          ]
        }
      ]
    },
    {
      "cell_type": "markdown",
      "metadata": {
        "id": "pIhnhcK8CaAj"
      },
      "source": [
        "#Normalisasi"
      ]
    },
    {
      "cell_type": "markdown",
      "metadata": {
        "id": "HUrfNXDYF9-c"
      },
      "source": [
        "Normalisasi yang digunakan adalah z score"
      ]
    },
    {
      "cell_type": "code",
      "metadata": {
        "id": "us4GerkByIG-",
        "outputId": "95219cff-2a1e-412f-825e-7fd3c81eb32d",
        "colab": {
          "base_uri": "https://localhost:8080/",
          "height": 484
        }
      },
      "source": [
        "nyc_data_cp2 = nyc_data_cp.sort_values(by='price', ascending=True, axis=0)\n",
        "nyc_data_cp2.head()"
      ],
      "execution_count": 53,
      "outputs": [
        {
          "output_type": "execute_result",
          "data": {
            "text/html": [
              "<div>\n",
              "<style scoped>\n",
              "    .dataframe tbody tr th:only-of-type {\n",
              "        vertical-align: middle;\n",
              "    }\n",
              "\n",
              "    .dataframe tbody tr th {\n",
              "        vertical-align: top;\n",
              "    }\n",
              "\n",
              "    .dataframe thead th {\n",
              "        text-align: right;\n",
              "    }\n",
              "</style>\n",
              "<table border=\"1\" class=\"dataframe\">\n",
              "  <thead>\n",
              "    <tr style=\"text-align: right;\">\n",
              "      <th></th>\n",
              "      <th>id</th>\n",
              "      <th>name</th>\n",
              "      <th>host_id</th>\n",
              "      <th>host_name</th>\n",
              "      <th>neighbourhood_group</th>\n",
              "      <th>neighbourhood</th>\n",
              "      <th>latitude</th>\n",
              "      <th>longitude</th>\n",
              "      <th>room_type</th>\n",
              "      <th>price</th>\n",
              "      <th>minimum_nights</th>\n",
              "      <th>number_of_reviews</th>\n",
              "      <th>last_review</th>\n",
              "      <th>reviews_per_month</th>\n",
              "      <th>calculated_host_listings_count</th>\n",
              "      <th>availability_365</th>\n",
              "    </tr>\n",
              "  </thead>\n",
              "  <tbody>\n",
              "    <tr>\n",
              "      <th>25796</th>\n",
              "      <td>20639914</td>\n",
              "      <td>Cozy yet spacious private brownstone bedroom</td>\n",
              "      <td>86327101</td>\n",
              "      <td>Adeyemi</td>\n",
              "      <td>Brooklyn</td>\n",
              "      <td>Bedford-Stuyvesant</td>\n",
              "      <td>40.68258</td>\n",
              "      <td>-73.91284</td>\n",
              "      <td>Private room</td>\n",
              "      <td>0</td>\n",
              "      <td>1</td>\n",
              "      <td>95</td>\n",
              "      <td>2019-06-23</td>\n",
              "      <td>4.35</td>\n",
              "      <td>6</td>\n",
              "      <td>222</td>\n",
              "    </tr>\n",
              "    <tr>\n",
              "      <th>25634</th>\n",
              "      <td>20523843</td>\n",
              "      <td>MARTIAL LOFT 3: REDEMPTION (upstairs, 2nd room)</td>\n",
              "      <td>15787004</td>\n",
              "      <td>Martial Loft</td>\n",
              "      <td>Brooklyn</td>\n",
              "      <td>Bushwick</td>\n",
              "      <td>40.69467</td>\n",
              "      <td>-73.92433</td>\n",
              "      <td>Private room</td>\n",
              "      <td>0</td>\n",
              "      <td>2</td>\n",
              "      <td>16</td>\n",
              "      <td>2019-05-18</td>\n",
              "      <td>0.71</td>\n",
              "      <td>5</td>\n",
              "      <td>0</td>\n",
              "    </tr>\n",
              "    <tr>\n",
              "      <th>25433</th>\n",
              "      <td>20333471</td>\n",
              "      <td>★Hostel Style Room | Ideal Traveling Buddies★</td>\n",
              "      <td>131697576</td>\n",
              "      <td>Anisha</td>\n",
              "      <td>Bronx</td>\n",
              "      <td>East Morrisania</td>\n",
              "      <td>40.83296</td>\n",
              "      <td>-73.88668</td>\n",
              "      <td>Private room</td>\n",
              "      <td>0</td>\n",
              "      <td>2</td>\n",
              "      <td>55</td>\n",
              "      <td>2019-06-24</td>\n",
              "      <td>2.56</td>\n",
              "      <td>4</td>\n",
              "      <td>127</td>\n",
              "    </tr>\n",
              "    <tr>\n",
              "      <th>25753</th>\n",
              "      <td>20608117</td>\n",
              "      <td>Sunny, Quiet Room in Greenpoint</td>\n",
              "      <td>1641537</td>\n",
              "      <td>Lauren</td>\n",
              "      <td>Brooklyn</td>\n",
              "      <td>Greenpoint</td>\n",
              "      <td>40.72462</td>\n",
              "      <td>-73.94072</td>\n",
              "      <td>Private room</td>\n",
              "      <td>0</td>\n",
              "      <td>2</td>\n",
              "      <td>12</td>\n",
              "      <td>2017-10-27</td>\n",
              "      <td>0.53</td>\n",
              "      <td>2</td>\n",
              "      <td>0</td>\n",
              "    </tr>\n",
              "    <tr>\n",
              "      <th>23161</th>\n",
              "      <td>18750597</td>\n",
              "      <td>Huge Brooklyn Brownstone Living, Close to it all.</td>\n",
              "      <td>8993084</td>\n",
              "      <td>Kimberly</td>\n",
              "      <td>Brooklyn</td>\n",
              "      <td>Bedford-Stuyvesant</td>\n",
              "      <td>40.69023</td>\n",
              "      <td>-73.95428</td>\n",
              "      <td>Private room</td>\n",
              "      <td>0</td>\n",
              "      <td>4</td>\n",
              "      <td>1</td>\n",
              "      <td>2018-01-06</td>\n",
              "      <td>0.05</td>\n",
              "      <td>4</td>\n",
              "      <td>28</td>\n",
              "    </tr>\n",
              "  </tbody>\n",
              "</table>\n",
              "</div>"
            ],
            "text/plain": [
              "             id  ... availability_365\n",
              "25796  20639914  ...              222\n",
              "25634  20523843  ...                0\n",
              "25433  20333471  ...              127\n",
              "25753  20608117  ...                0\n",
              "23161  18750597  ...               28\n",
              "\n",
              "[5 rows x 16 columns]"
            ]
          },
          "metadata": {
            "tags": []
          },
          "execution_count": 53
        }
      ]
    },
    {
      "cell_type": "markdown",
      "metadata": {
        "id": "Nc5DiFJTGDcL"
      },
      "source": [
        "Karena di kolom price ada harga 0 nanti ketika dibagi tidak akan bisa, maka akan dilakukan transformasi log+1"
      ]
    },
    {
      "cell_type": "code",
      "metadata": {
        "id": "mkMlyy2mEkyE",
        "outputId": "c268a3ca-f826-404f-f2ed-11476ffacf16",
        "colab": {
          "base_uri": "https://localhost:8080/",
          "height": 696
        }
      },
      "source": [
        "plt.figure(figsize=(12,10))\n",
        "sns.distplot(nyc_data_cp2['price'])\n",
        "plt.title(\"Price Distribution Plot\",size=15, weight='bold')"
      ],
      "execution_count": 54,
      "outputs": [
        {
          "output_type": "stream",
          "text": [
            "/usr/local/lib/python3.6/dist-packages/seaborn/distributions.py:2551: FutureWarning: `distplot` is a deprecated function and will be removed in a future version. Please adapt your code to use either `displot` (a figure-level function with similar flexibility) or `histplot` (an axes-level function for histograms).\n",
            "  warnings.warn(msg, FutureWarning)\n"
          ],
          "name": "stderr"
        },
        {
          "output_type": "execute_result",
          "data": {
            "text/plain": [
              "Text(0.5, 1.0, 'Price Distribution Plot')"
            ]
          },
          "metadata": {
            "tags": []
          },
          "execution_count": 54
        },
        {
          "output_type": "display_data",
          "data": {
            "image/png": "[encoded data removed]",
            "text/plain": [
              "<Figure size 864x720 with 1 Axes>"
            ]
          },
          "metadata": {
            "tags": [],
            "needs_background": "light"
          }
        }
      ]
    },
    {
      "cell_type": "code",
      "metadata": {
        "id": "rwte2_A17JZh"
      },
      "source": [
        "#transformasi log+1\n",
        "nyc_data_cp2['price_log'] = np.log(nyc_data_cp2.price+1)"
      ],
      "execution_count": 55,
      "outputs": []
    },
    {
      "cell_type": "code",
      "metadata": {
        "id": "qeFEKs177enE",
        "outputId": "aee44910-bcba-4a1e-cd97-c3dfa1c3ccf2",
        "colab": {
          "base_uri": "https://localhost:8080/",
          "height": 697
        }
      },
      "source": [
        "plt.figure(figsize=(12,10))\n",
        "sns.distplot(nyc_data_cp2['price_log'])\n",
        "plt.title(\"Log-Price Distribution Plot\",size=15, weight='bold')"
      ],
      "execution_count": 56,
      "outputs": [
        {
          "output_type": "stream",
          "text": [
            "/usr/local/lib/python3.6/dist-packages/seaborn/distributions.py:2551: FutureWarning: `distplot` is a deprecated function and will be removed in a future version. Please adapt your code to use either `displot` (a figure-level function with similar flexibility) or `histplot` (an axes-level function for histograms).\n",
            "  warnings.warn(msg, FutureWarning)\n"
          ],
          "name": "stderr"
        },
        {
          "output_type": "execute_result",
          "data": {
            "text/plain": [
              "Text(0.5, 1.0, 'Log-Price Distribution Plot')"
            ]
          },
          "metadata": {
            "tags": []
          },
          "execution_count": 56
        },
        {
          "output_type": "display_data",
          "data": {
            "image/png": "[encoded data removed]",
            "text/plain": [
              "<Figure size 864x720 with 1 Axes>"
            ]
          },
          "metadata": {
            "tags": [],
            "needs_background": "light"
          }
        }
      ]
    },
    {
      "cell_type": "code",
      "metadata": {
        "id": "b7r5Wxx98D8R",
        "outputId": "60cd3be8-7ee5-4f2b-d587-f5b9f37d3b60",
        "colab": {
          "base_uri": "https://localhost:8080/",
          "height": 230
        }
      },
      "source": [
        "nyc_data_cp2['price_log'].head(100)"
      ],
      "execution_count": 57,
      "outputs": [
        {
          "output_type": "execute_result",
          "data": {
            "text/plain": [
              "25796    0.000000\n",
              "25634    0.000000\n",
              "25433    0.000000\n",
              "25753    0.000000\n",
              "23161    0.000000\n",
              "           ...   \n",
              "28517    3.135494\n",
              "20779    3.135494\n",
              "34153    3.135494\n",
              "21209    3.135494\n",
              "22050    3.135494\n",
              "Name: price_log, Length: 100, dtype: float64"
            ]
          },
          "metadata": {
            "tags": []
          },
          "execution_count": 57
        }
      ]
    },
    {
      "cell_type": "code",
      "metadata": {
        "id": "1EWMQYey4V9m",
        "outputId": "748904bf-68cc-4bd0-eb10-96267fa31fb0",
        "colab": {
          "base_uri": "https://localhost:8080/",
          "height": 457
        }
      },
      "source": [
        "from scipy import stats\n",
        "plt.figure(figsize=(7,7))\n",
        "stats.probplot(nyc_data_cp2['price_log'], plot=plt)\n",
        "plt.show()"
      ],
      "execution_count": 58,
      "outputs": [
        {
          "output_type": "display_data",
          "data": {
            "image/png": "[encoded data removed]",
            "text/plain": [
              "<Figure size 504x504 with 1 Axes>"
            ]
          },
          "metadata": {
            "tags": [],
            "needs_background": "light"
          }
        }
      ]
    },
    {
      "cell_type": "markdown",
      "metadata": {
        "id": "gDUSm46rLz7W"
      },
      "source": [
        "**Feature Selection**\n",
        "\n",
        "Mendrop kolom yang tidak terpakai"
      ]
    },
    {
      "cell_type": "code",
      "metadata": {
        "id": "Oux5SswAL6w-",
        "outputId": "67e786cf-d525-4632-a872-811d632f650b",
        "colab": {
          "base_uri": "https://localhost:8080/",
          "height": 230
        }
      },
      "source": [
        "nyc_model = nyc_data_cp2.drop(columns=['name','id' ,'host_id','host_name', \n",
        "                                   'last_review','price'])\n",
        "nyc_model.isnull().sum()"
      ],
      "execution_count": 59,
      "outputs": [
        {
          "output_type": "execute_result",
          "data": {
            "text/plain": [
              "neighbourhood_group               0\n",
              "neighbourhood                     0\n",
              "latitude                          0\n",
              "longitude                         0\n",
              "room_type                         0\n",
              "minimum_nights                    0\n",
              "number_of_reviews                 0\n",
              "reviews_per_month                 0\n",
              "calculated_host_listings_count    0\n",
              "availability_365                  0\n",
              "price_log                         0\n",
              "dtype: int64"
            ]
          },
          "metadata": {
            "tags": []
          },
          "execution_count": 59
        }
      ]
    },
    {
      "cell_type": "code",
      "metadata": {
        "id": "lCALNV7aj4cE",
        "outputId": "ba769d7d-74a2-44df-ed64-b506f408f555",
        "colab": {
          "base_uri": "https://localhost:8080/",
          "height": 593
        }
      },
      "source": [
        "nyc_model"
      ],
      "execution_count": 60,
      "outputs": [
        {
          "output_type": "execute_result",
          "data": {
            "text/html": [
              "<div>\n",
              "<style scoped>\n",
              "    .dataframe tbody tr th:only-of-type {\n",
              "        vertical-align: middle;\n",
              "    }\n",
              "\n",
              "    .dataframe tbody tr th {\n",
              "        vertical-align: top;\n",
              "    }\n",
              "\n",
              "    .dataframe thead th {\n",
              "        text-align: right;\n",
              "    }\n",
              "</style>\n",
              "<table border=\"1\" class=\"dataframe\">\n",
              "  <thead>\n",
              "    <tr style=\"text-align: right;\">\n",
              "      <th></th>\n",
              "      <th>neighbourhood_group</th>\n",
              "      <th>neighbourhood</th>\n",
              "      <th>latitude</th>\n",
              "      <th>longitude</th>\n",
              "      <th>room_type</th>\n",
              "      <th>minimum_nights</th>\n",
              "      <th>number_of_reviews</th>\n",
              "      <th>reviews_per_month</th>\n",
              "      <th>calculated_host_listings_count</th>\n",
              "      <th>availability_365</th>\n",
              "      <th>price_log</th>\n",
              "    </tr>\n",
              "  </thead>\n",
              "  <tbody>\n",
              "    <tr>\n",
              "      <th>25796</th>\n",
              "      <td>Brooklyn</td>\n",
              "      <td>Bedford-Stuyvesant</td>\n",
              "      <td>40.68258</td>\n",
              "      <td>-73.91284</td>\n",
              "      <td>Private room</td>\n",
              "      <td>1</td>\n",
              "      <td>95</td>\n",
              "      <td>4.350000</td>\n",
              "      <td>6</td>\n",
              "      <td>222</td>\n",
              "      <td>0.00000</td>\n",
              "    </tr>\n",
              "    <tr>\n",
              "      <th>25634</th>\n",
              "      <td>Brooklyn</td>\n",
              "      <td>Bushwick</td>\n",
              "      <td>40.69467</td>\n",
              "      <td>-73.92433</td>\n",
              "      <td>Private room</td>\n",
              "      <td>2</td>\n",
              "      <td>16</td>\n",
              "      <td>0.710000</td>\n",
              "      <td>5</td>\n",
              "      <td>0</td>\n",
              "      <td>0.00000</td>\n",
              "    </tr>\n",
              "    <tr>\n",
              "      <th>25433</th>\n",
              "      <td>Bronx</td>\n",
              "      <td>East Morrisania</td>\n",
              "      <td>40.83296</td>\n",
              "      <td>-73.88668</td>\n",
              "      <td>Private room</td>\n",
              "      <td>2</td>\n",
              "      <td>55</td>\n",
              "      <td>2.560000</td>\n",
              "      <td>4</td>\n",
              "      <td>127</td>\n",
              "      <td>0.00000</td>\n",
              "    </tr>\n",
              "    <tr>\n",
              "      <th>25753</th>\n",
              "      <td>Brooklyn</td>\n",
              "      <td>Greenpoint</td>\n",
              "      <td>40.72462</td>\n",
              "      <td>-73.94072</td>\n",
              "      <td>Private room</td>\n",
              "      <td>2</td>\n",
              "      <td>12</td>\n",
              "      <td>0.530000</td>\n",
              "      <td>2</td>\n",
              "      <td>0</td>\n",
              "      <td>0.00000</td>\n",
              "    </tr>\n",
              "    <tr>\n",
              "      <th>23161</th>\n",
              "      <td>Brooklyn</td>\n",
              "      <td>Bedford-Stuyvesant</td>\n",
              "      <td>40.69023</td>\n",
              "      <td>-73.95428</td>\n",
              "      <td>Private room</td>\n",
              "      <td>4</td>\n",
              "      <td>1</td>\n",
              "      <td>0.050000</td>\n",
              "      <td>4</td>\n",
              "      <td>28</td>\n",
              "      <td>0.00000</td>\n",
              "    </tr>\n",
              "    <tr>\n",
              "      <th>...</th>\n",
              "      <td>...</td>\n",
              "      <td>...</td>\n",
              "      <td>...</td>\n",
              "      <td>...</td>\n",
              "      <td>...</td>\n",
              "      <td>...</td>\n",
              "      <td>...</td>\n",
              "      <td>...</td>\n",
              "      <td>...</td>\n",
              "      <td>...</td>\n",
              "      <td>...</td>\n",
              "    </tr>\n",
              "    <tr>\n",
              "      <th>40433</th>\n",
              "      <td>Manhattan</td>\n",
              "      <td>Lower East Side</td>\n",
              "      <td>40.71980</td>\n",
              "      <td>-73.98566</td>\n",
              "      <td>Entire home/apt</td>\n",
              "      <td>30</td>\n",
              "      <td>0</td>\n",
              "      <td>1.373221</td>\n",
              "      <td>1</td>\n",
              "      <td>365</td>\n",
              "      <td>9.21034</td>\n",
              "    </tr>\n",
              "    <tr>\n",
              "      <th>12342</th>\n",
              "      <td>Manhattan</td>\n",
              "      <td>Lower East Side</td>\n",
              "      <td>40.71355</td>\n",
              "      <td>-73.98507</td>\n",
              "      <td>Private room</td>\n",
              "      <td>99</td>\n",
              "      <td>6</td>\n",
              "      <td>0.140000</td>\n",
              "      <td>1</td>\n",
              "      <td>83</td>\n",
              "      <td>9.21034</td>\n",
              "    </tr>\n",
              "    <tr>\n",
              "      <th>17692</th>\n",
              "      <td>Brooklyn</td>\n",
              "      <td>Greenpoint</td>\n",
              "      <td>40.73260</td>\n",
              "      <td>-73.95739</td>\n",
              "      <td>Entire home/apt</td>\n",
              "      <td>5</td>\n",
              "      <td>5</td>\n",
              "      <td>0.160000</td>\n",
              "      <td>1</td>\n",
              "      <td>0</td>\n",
              "      <td>9.21044</td>\n",
              "    </tr>\n",
              "    <tr>\n",
              "      <th>9151</th>\n",
              "      <td>Queens</td>\n",
              "      <td>Astoria</td>\n",
              "      <td>40.76810</td>\n",
              "      <td>-73.91651</td>\n",
              "      <td>Private room</td>\n",
              "      <td>100</td>\n",
              "      <td>2</td>\n",
              "      <td>0.040000</td>\n",
              "      <td>1</td>\n",
              "      <td>0</td>\n",
              "      <td>9.21044</td>\n",
              "    </tr>\n",
              "    <tr>\n",
              "      <th>29238</th>\n",
              "      <td>Manhattan</td>\n",
              "      <td>Upper West Side</td>\n",
              "      <td>40.77213</td>\n",
              "      <td>-73.98665</td>\n",
              "      <td>Entire home/apt</td>\n",
              "      <td>30</td>\n",
              "      <td>0</td>\n",
              "      <td>1.373221</td>\n",
              "      <td>1</td>\n",
              "      <td>83</td>\n",
              "      <td>9.21044</td>\n",
              "    </tr>\n",
              "  </tbody>\n",
              "</table>\n",
              "<p>48895 rows × 11 columns</p>\n",
              "</div>"
            ],
            "text/plain": [
              "      neighbourhood_group       neighbourhood  ...  availability_365  price_log\n",
              "25796            Brooklyn  Bedford-Stuyvesant  ...               222    0.00000\n",
              "25634            Brooklyn            Bushwick  ...                 0    0.00000\n",
              "25433               Bronx     East Morrisania  ...               127    0.00000\n",
              "25753            Brooklyn          Greenpoint  ...                 0    0.00000\n",
              "23161            Brooklyn  Bedford-Stuyvesant  ...                28    0.00000\n",
              "...                   ...                 ...  ...               ...        ...\n",
              "40433           Manhattan     Lower East Side  ...               365    9.21034\n",
              "12342           Manhattan     Lower East Side  ...                83    9.21034\n",
              "17692            Brooklyn          Greenpoint  ...                 0    9.21044\n",
              "9151               Queens             Astoria  ...                 0    9.21044\n",
              "29238           Manhattan     Upper West Side  ...                83    9.21044\n",
              "\n",
              "[48895 rows x 11 columns]"
            ]
          },
          "metadata": {
            "tags": []
          },
          "execution_count": 60
        }
      ]
    },
    {
      "cell_type": "markdown",
      "metadata": {
        "id": "F7Vv68VCCdfc"
      },
      "source": [
        "#TRAIN"
      ]
    },
    {
      "cell_type": "markdown",
      "metadata": {
        "id": "-ru6dqL-y-SV"
      },
      "source": [
        "merubah data categorical menjadi data numerik"
      ]
    },
    {
      "cell_type": "code",
      "metadata": {
        "id": "N6ez1iAvmK8I",
        "outputId": "d68f5be8-90c8-46eb-bf5b-dc532340f4ea",
        "colab": {
          "base_uri": "https://localhost:8080/",
          "height": 87
        }
      },
      "source": [
        "nyc_model.columns"
      ],
      "execution_count": 61,
      "outputs": [
        {
          "output_type": "execute_result",
          "data": {
            "text/plain": [
              "Index(['neighbourhood_group', 'neighbourhood', 'latitude', 'longitude',\n",
              "       'room_type', 'minimum_nights', 'number_of_reviews', 'reviews_per_month',\n",
              "       'calculated_host_listings_count', 'availability_365', 'price_log'],\n",
              "      dtype='object')"
            ]
          },
          "metadata": {
            "tags": []
          },
          "execution_count": 61
        }
      ]
    },
    {
      "cell_type": "code",
      "metadata": {
        "id": "wIV9vt3VCfuK",
        "outputId": "e94ef713-3c05-40af-ea80-95996d8734a1",
        "colab": {
          "base_uri": "https://localhost:8080/",
          "height": 176
        }
      },
      "source": [
        "from sklearn import linear_model\n",
        "regr = linear_model.LinearRegression(fit_intercept=True, normalize=True)\n",
        "train_x = np.asarray(nyc_model[['price_log']])\n",
        "train_y = np.asarray(nyc_model[['number_of_reviews']])\n",
        "regr.fit(train_x, train_y)\n",
        "print('Coeffisient : ', regr.coef_)\n",
        "print('Intercept : ', regr.intercept_)\n",
        "print('Prediction (Yhat) : ', regr.predict(train_x))"
      ],
      "execution_count": 64,
      "outputs": [
        {
          "output_type": "stream",
          "text": [
            "Coeffisient :  [[-2.74223579]]\n",
            "Intercept :  [36.26412047]\n",
            "Prediction (Yhat) :  [[36.26412047]\n",
            " [36.26412047]\n",
            " [36.26412047]\n",
            " ...\n",
            " [11.00692127]\n",
            " [11.00692127]\n",
            " [11.00692127]]\n"
          ],
          "name": "stdout"
        }
      ]
    },
    {
      "cell_type": "code",
      "metadata": {
        "id": "xNF-vbgYjaoJ",
        "outputId": "bc3adcf7-776b-41a5-e8f1-c7a7a158ea2b",
        "colab": {
          "base_uri": "https://localhost:8080/",
          "height": 238
        }
      },
      "source": [
        "from sklearn.metrics import r2_score\n",
        "\n",
        "test_x = np.asanyarray(test[['price_log']])\n",
        "test_y = np.asanyarray(test[['number_of_reviews']])\n",
        "test_y_ = regr.predict(test_x)\n",
        "\n",
        "print(\"Mean absolute error: %.2f\" % np.mean(np.absolute(test_y_ - test_y)))\n",
        "print(\"Residual sum of squares (RMSE): %.2f\" % np.mean((test_y_ - test_y) ** 2))\n",
        "print(\"R2-score: %.2f\" % r2_score(test_y_ , test_y) )"
      ],
      "execution_count": 63,
      "outputs": [
        {
          "output_type": "error",
          "ename": "NameError",
          "evalue": "ignored",
          "traceback": [
            "\u001b[0;31m---------------------------------------------------------------------------\u001b[0m",
            "\u001b[0;31mNameError\u001b[0m                                 Traceback (most recent call last)",
            "\u001b[0;32m<ipython-input-63-d750125c2e90>\u001b[0m in \u001b[0;36m<module>\u001b[0;34m()\u001b[0m\n\u001b[1;32m      1\u001b[0m \u001b[0;32mfrom\u001b[0m \u001b[0msklearn\u001b[0m\u001b[0;34m.\u001b[0m\u001b[0mmetrics\u001b[0m \u001b[0;32mimport\u001b[0m \u001b[0mr2_score\u001b[0m\u001b[0;34m\u001b[0m\u001b[0;34m\u001b[0m\u001b[0m\n\u001b[1;32m      2\u001b[0m \u001b[0;34m\u001b[0m\u001b[0m\n\u001b[0;32m----> 3\u001b[0;31m \u001b[0mtest_x\u001b[0m \u001b[0;34m=\u001b[0m \u001b[0mnp\u001b[0m\u001b[0;34m.\u001b[0m\u001b[0masanyarray\u001b[0m\u001b[0;34m(\u001b[0m\u001b[0mtest\u001b[0m\u001b[0;34m[\u001b[0m\u001b[0;34m[\u001b[0m\u001b[0;34m'price_log'\u001b[0m\u001b[0;34m]\u001b[0m\u001b[0;34m]\u001b[0m\u001b[0;34m)\u001b[0m\u001b[0;34m\u001b[0m\u001b[0;34m\u001b[0m\u001b[0m\n\u001b[0m\u001b[1;32m      4\u001b[0m \u001b[0mtest_y\u001b[0m \u001b[0;34m=\u001b[0m \u001b[0mnp\u001b[0m\u001b[0;34m.\u001b[0m\u001b[0masanyarray\u001b[0m\u001b[0;34m(\u001b[0m\u001b[0mtest\u001b[0m\u001b[0;34m[\u001b[0m\u001b[0;34m[\u001b[0m\u001b[0;34m'number_of_reviews'\u001b[0m\u001b[0;34m]\u001b[0m\u001b[0;34m]\u001b[0m\u001b[0;34m)\u001b[0m\u001b[0;34m\u001b[0m\u001b[0;34m\u001b[0m\u001b[0m\n\u001b[1;32m      5\u001b[0m \u001b[0mtest_y_\u001b[0m \u001b[0;34m=\u001b[0m \u001b[0mregr\u001b[0m\u001b[0;34m.\u001b[0m\u001b[0mpredict\u001b[0m\u001b[0;34m(\u001b[0m\u001b[0mtest_x\u001b[0m\u001b[0;34m)\u001b[0m\u001b[0;34m\u001b[0m\u001b[0;34m\u001b[0m\u001b[0m\n",
            "\u001b[0;31mNameError\u001b[0m: name 'test' is not defined"
          ]
        }
      ]
    },
    {
      "cell_type": "code",
      "metadata": {
        "id": "B71Gb7sPoY9O",
        "outputId": "4d1713c6-38c1-4791-cf68-6b4b524fbdd1",
        "colab": {
          "base_uri": "https://localhost:8080/",
          "height": 297
        }
      },
      "source": [
        "plt.scatter(train.price_log, train.number_of_reviews,  color='blue')\n",
        "plt.plot(train_x, regr.coef_[0][0]*train_x + regr.intercept_[0], '-r')\n",
        "plt.xlabel(\"price_log\")\n",
        "plt.ylabel(\"number_of_reviews\")"
      ],
      "execution_count": null,
      "outputs": [
        {
          "output_type": "execute_result",
          "data": {
            "text/plain": [
              "Text(0, 0.5, 'number_of_reviews')"
            ]
          },
          "metadata": {
            "tags": []
          },
          "execution_count": 162
        },
        {
          "output_type": "display_data",
          "data": {
            "image/png": "[encoded data removed]",
            "text/plain": [
              "<Figure size 432x288 with 1 Axes>"
            ]
          },
          "metadata": {
            "tags": [],
            "needs_background": "light"
          }
        }
      ]
    },
    {
      "cell_type": "markdown",
      "metadata": {
        "id": "gKerBVvupQ3N"
      },
      "source": [
        "TRAIN Linear Regresion 2\n"
      ]
    },
    {
      "cell_type": "code",
      "metadata": {
        "id": "RaVJg8K7oP4m"
      },
      "source": [
        "##Linear Regression\n",
        "lr = LinearRegression(copy_X= True, fit_intercept = True, normalize = True)\n",
        "lr.fit(X_train, y_train)\n",
        "lr_pred= lr.predict(X_test)"
      ],
      "execution_count": null,
      "outputs": []
    },
    {
      "cell_type": "markdown",
      "metadata": {
        "id": "2bf4nW_RzjQI"
      },
      "source": [
        "#TRAIN 2"
      ]
    },
    {
      "cell_type": "code",
      "metadata": {
        "id": "orLRfqrs1uNV",
        "outputId": "54c5777a-2500-49f4-9611-61469090d943",
        "colab": {
          "base_uri": "https://localhost:8080/",
          "height": 247
        }
      },
      "source": [
        "nyc_model2 = nyc_data_cp2.drop(columns=['name','id' ,'host_id','host_name', \n",
        "                                   'last_review'])\n",
        "nyc_model2.isnull().sum()"
      ],
      "execution_count": 65,
      "outputs": [
        {
          "output_type": "execute_result",
          "data": {
            "text/plain": [
              "neighbourhood_group               0\n",
              "neighbourhood                     0\n",
              "latitude                          0\n",
              "longitude                         0\n",
              "room_type                         0\n",
              "price                             0\n",
              "minimum_nights                    0\n",
              "number_of_reviews                 0\n",
              "reviews_per_month                 0\n",
              "calculated_host_listings_count    0\n",
              "availability_365                  0\n",
              "price_log                         0\n",
              "dtype: int64"
            ]
          },
          "metadata": {
            "tags": []
          },
          "execution_count": 65
        }
      ]
    },
    {
      "cell_type": "code",
      "metadata": {
        "id": "3gpYuKEK0rZs",
        "outputId": "35e0097a-fd8d-47a7-cbb8-87a508f6b86f",
        "colab": {
          "base_uri": "https://localhost:8080/",
          "height": 354
        }
      },
      "source": [
        "nyc_model2['neighbourhood_group']= nyc_model['neighbourhood_group'].astype(\"category\").cat.codes\n",
        "nyc_model2['neighbourhood'] = nyc_model['neighbourhood'].astype(\"category\").cat.codes\n",
        "nyc_model2['room_type'] = nyc_model['room_type'].astype(\"category\").cat.codes\n",
        "nyc_model2.info()"
      ],
      "execution_count": 66,
      "outputs": [
        {
          "output_type": "stream",
          "text": [
            "<class 'pandas.core.frame.DataFrame'>\n",
            "Int64Index: 48895 entries, 25796 to 29238\n",
            "Data columns (total 12 columns):\n",
            " #   Column                          Non-Null Count  Dtype  \n",
            "---  ------                          --------------  -----  \n",
            " 0   neighbourhood_group             48895 non-null  int8   \n",
            " 1   neighbourhood                   48895 non-null  int16  \n",
            " 2   latitude                        48895 non-null  float64\n",
            " 3   longitude                       48895 non-null  float64\n",
            " 4   room_type                       48895 non-null  int8   \n",
            " 5   price                           48895 non-null  int64  \n",
            " 6   minimum_nights                  48895 non-null  int64  \n",
            " 7   number_of_reviews               48895 non-null  int64  \n",
            " 8   reviews_per_month               48895 non-null  float64\n",
            " 9   calculated_host_listings_count  48895 non-null  int64  \n",
            " 10  availability_365                48895 non-null  int64  \n",
            " 11  price_log                       48895 non-null  float64\n",
            "dtypes: float64(4), int16(1), int64(5), int8(2)\n",
            "memory usage: 3.9 MB\n"
          ],
          "name": "stdout"
        }
      ]
    },
    {
      "cell_type": "code",
      "metadata": {
        "id": "JGXCNM8S1_eh"
      },
      "source": [
        "from sklearn.preprocessing import StandardScaler\n",
        "from sklearn import preprocessing\n",
        "from sklearn.model_selection import train_test_split\n",
        "x, y = nyc_model2.iloc[:,:-1], nyc_model2.iloc[:,-1]\n",
        "scaler = StandardScaler()\n",
        "df_model_x = scaler.fit_transform(x)\n",
        "\n",
        "X_train, X_test, y_train, y_test = train_test_split(x, y, test_size=0.3,random_state=42)"
      ],
      "execution_count": 67,
      "outputs": []
    },
    {
      "cell_type": "code",
      "metadata": {
        "id": "Vlw6WVs_05Mf",
        "outputId": "080a6a9c-1920-4bd1-9d3f-45e42ef9aaae",
        "colab": {
          "base_uri": "https://localhost:8080/",
          "height": 34
        }
      },
      "source": [
        "lr = LinearRegression(copy_X= True, fit_intercept = True, normalize = True)\n",
        "lr.fit(X_train, y_train)\n",
        "lr_pred= lr.predict(X_test)\n",
        "print('lr_prediction : ', lr_pred)"
      ],
      "execution_count": 68,
      "outputs": [
        {
          "output_type": "stream",
          "text": [
            "lr_prediction :  [4.18305248 5.16322609 4.21643156 ... 5.41950824 4.7615669  5.42706002]\n"
          ],
          "name": "stdout"
        }
      ]
    },
    {
      "cell_type": "code",
      "metadata": {
        "id": "Nnm5bOEP2Gt7",
        "outputId": "7fe226d2-01c2-4d2f-896f-caa8d7708a8a",
        "colab": {
          "base_uri": "https://localhost:8080/",
          "height": 70
        }
      },
      "source": [
        "from sklearn.metrics import r2_score\n",
        "from sklearn.metrics import mean_absolute_error\n",
        "from sklearn.metrics import mean_squared_error\n",
        "\n",
        "print('MAE: %f'% mean_absolute_error(y_test, lr_pred))\n",
        "print('RMSE: %f'% np.sqrt(mean_squared_error(y_test, lr_pred)))   \n",
        "print('R2 %f' % r2_score(y_test, lr_pred))"
      ],
      "execution_count": 69,
      "outputs": [
        {
          "output_type": "stream",
          "text": [
            "MAE: 0.290306\n",
            "RMSE: 0.391646\n",
            "R2 0.683121\n"
          ],
          "name": "stdout"
        }
      ]
    },
    {
      "cell_type": "code",
      "metadata": {
        "id": "XowbVUK13myu",
        "outputId": "9c091452-de70-40df-f940-ec822a2540f2",
        "colab": {
          "base_uri": "https://localhost:8080/",
          "height": 282
        }
      },
      "source": [
        "plt.scatter(y_test, lr_pred )"
      ],
      "execution_count": 74,
      "outputs": [
        {
          "output_type": "execute_result",
          "data": {
            "text/plain": [
              "<matplotlib.collections.PathCollection at 0x7f1ef0882080>"
            ]
          },
          "metadata": {
            "tags": []
          },
          "execution_count": 74
        },
        {
          "output_type": "display_data",
          "data": {
            "image/png": "[encoded data removed]",
            "text/plain": [
              "<Figure size 432x288 with 1 Axes>"
            ]
          },
          "metadata": {
            "tags": [],
            "needs_background": "light"
          }
        }
      ]
    },
    {
      "cell_type": "markdown",
      "metadata": {
        "id": "kQGPZf72LdpO"
      },
      "source": [
        "#Deep Learning"
      ]
    },
    {
      "cell_type": "code",
      "metadata": {
        "id": "wOfcxiTcL90z"
      },
      "source": [
        "nyc_deep = nyc_data_cp.copy()"
      ],
      "execution_count": 75,
      "outputs": []
    },
    {
      "cell_type": "code",
      "metadata": {
        "id": "UEWSi_4TLxcU",
        "outputId": "4b1db36b-8582-460d-fe4e-2dd826c125c8",
        "colab": {
          "base_uri": "https://localhost:8080/",
          "height": 587
        }
      },
      "source": [
        "plt.figure(figsize=(10,8))\n",
        "sns.distplot(nyc_deep['price'])\n",
        "plt.title(\"Price Distribution Plot\",size=15, weight='bold')"
      ],
      "execution_count": 76,
      "outputs": [
        {
          "output_type": "stream",
          "text": [
            "/usr/local/lib/python3.6/dist-packages/seaborn/distributions.py:2551: FutureWarning: `distplot` is a deprecated function and will be removed in a future version. Please adapt your code to use either `displot` (a figure-level function with similar flexibility) or `histplot` (an axes-level function for histograms).\n",
            "  warnings.warn(msg, FutureWarning)\n"
          ],
          "name": "stderr"
        },
        {
          "output_type": "execute_result",
          "data": {
            "text/plain": [
              "Text(0.5, 1.0, 'Price Distribution Plot')"
            ]
          },
          "metadata": {
            "tags": []
          },
          "execution_count": 76
        },
        {
          "output_type": "display_data",
          "data": {
            "image/png": "[encoded data removed]",
            "text/plain": [
              "<Figure size 720x576 with 1 Axes>"
            ]
          },
          "metadata": {
            "tags": [],
            "needs_background": "light"
          }
        }
      ]
    },
    {
      "cell_type": "code",
      "metadata": {
        "id": "gBjJATVsL0r5"
      },
      "source": [
        "#transformasi log+1\n",
        "nyc_deep['price_log'] = np.log(nyc_deep.price+1)"
      ],
      "execution_count": 77,
      "outputs": []
    },
    {
      "cell_type": "code",
      "metadata": {
        "id": "Z_rI71ynMJ2T",
        "outputId": "d9295b8f-4f20-4a61-acbd-4cdd92fdf181",
        "colab": {
          "base_uri": "https://localhost:8080/",
          "height": 697
        }
      },
      "source": [
        "plt.figure(figsize=(12,10))\n",
        "sns.distplot(nyc_deep['price_log'])\n",
        "plt.title(\"Log-Price Distribution Plot\",size=15, weight='bold')"
      ],
      "execution_count": 78,
      "outputs": [
        {
          "output_type": "stream",
          "text": [
            "/usr/local/lib/python3.6/dist-packages/seaborn/distributions.py:2551: FutureWarning: `distplot` is a deprecated function and will be removed in a future version. Please adapt your code to use either `displot` (a figure-level function with similar flexibility) or `histplot` (an axes-level function for histograms).\n",
            "  warnings.warn(msg, FutureWarning)\n"
          ],
          "name": "stderr"
        },
        {
          "output_type": "execute_result",
          "data": {
            "text/plain": [
              "Text(0.5, 1.0, 'Log-Price Distribution Plot')"
            ]
          },
          "metadata": {
            "tags": []
          },
          "execution_count": 78
        },
        {
          "output_type": "display_data",
          "data": {
            "image/png": "[encoded data removed]",
            "text/plain": [
              "<Figure size 864x720 with 1 Axes>"
            ]
          },
          "metadata": {
            "tags": [],
            "needs_background": "light"
          }
        }
      ]
    },
    {
      "cell_type": "code",
      "metadata": {
        "id": "kDeMBl8MMNlm",
        "outputId": "721e3785-9f75-44e5-aeab-8f9d84d569f3",
        "colab": {
          "base_uri": "https://localhost:8080/",
          "height": 457
        }
      },
      "source": [
        "from scipy import stats\n",
        "plt.figure(figsize=(7,7))\n",
        "stats.probplot(nyc_deep['price_log'], plot=plt)\n",
        "plt.show()"
      ],
      "execution_count": 79,
      "outputs": [
        {
          "output_type": "display_data",
          "data": {
            "image/png": "[encoded data removed]",
            "text/plain": [
              "<Figure size 504x504 with 1 Axes>"
            ]
          },
          "metadata": {
            "tags": [],
            "needs_background": "light"
          }
        }
      ]
    },
    {
      "cell_type": "markdown",
      "metadata": {
        "id": "BoHm4cn9Mb3f"
      },
      "source": [
        "Drop kolom yang tidak terpakai"
      ]
    },
    {
      "cell_type": "code",
      "metadata": {
        "id": "eDZyuQCGMU__",
        "outputId": "f989382f-e04f-4ec0-e718-fb9b8e1a64f8",
        "colab": {
          "base_uri": "https://localhost:8080/",
          "height": 230
        }
      },
      "source": [
        "nyc_deep_model = nyc_deep.drop(columns=['name','id' ,'host_id','host_name', \n",
        "                                   'last_review','price'])\n",
        "nyc_deep_model.isnull().sum()"
      ],
      "execution_count": 80,
      "outputs": [
        {
          "output_type": "execute_result",
          "data": {
            "text/plain": [
              "neighbourhood_group               0\n",
              "neighbourhood                     0\n",
              "latitude                          0\n",
              "longitude                         0\n",
              "room_type                         0\n",
              "minimum_nights                    0\n",
              "number_of_reviews                 0\n",
              "reviews_per_month                 0\n",
              "calculated_host_listings_count    0\n",
              "availability_365                  0\n",
              "price_log                         0\n",
              "dtype: int64"
            ]
          },
          "metadata": {
            "tags": []
          },
          "execution_count": 80
        }
      ]
    },
    {
      "cell_type": "code",
      "metadata": {
        "id": "kaPReKziMeVx",
        "outputId": "0b61c85e-075f-4ed7-9522-deaabceb2b9c",
        "colab": {
          "base_uri": "https://localhost:8080/",
          "height": 336
        }
      },
      "source": [
        "nyc_deep_model['neighbourhood_group']= nyc_deep_model['neighbourhood_group'].astype(\"category\").cat.codes\n",
        "nyc_deep_model['neighbourhood'] = nyc_deep_model['neighbourhood'].astype(\"category\").cat.codes\n",
        "nyc_deep_model['room_type'] = nyc_deep_model['room_type'].astype(\"category\").cat.codes\n",
        "nyc_deep_model.info()"
      ],
      "execution_count": 81,
      "outputs": [
        {
          "output_type": "stream",
          "text": [
            "<class 'pandas.core.frame.DataFrame'>\n",
            "Int64Index: 48895 entries, 0 to 48894\n",
            "Data columns (total 11 columns):\n",
            " #   Column                          Non-Null Count  Dtype  \n",
            "---  ------                          --------------  -----  \n",
            " 0   neighbourhood_group             48895 non-null  int8   \n",
            " 1   neighbourhood                   48895 non-null  int16  \n",
            " 2   latitude                        48895 non-null  float64\n",
            " 3   longitude                       48895 non-null  float64\n",
            " 4   room_type                       48895 non-null  int8   \n",
            " 5   minimum_nights                  48895 non-null  int64  \n",
            " 6   number_of_reviews               48895 non-null  int64  \n",
            " 7   reviews_per_month               48895 non-null  float64\n",
            " 8   calculated_host_listings_count  48895 non-null  int64  \n",
            " 9   availability_365                48895 non-null  int64  \n",
            " 10  price_log                       48895 non-null  float64\n",
            "dtypes: float64(4), int16(1), int64(4), int8(2)\n",
            "memory usage: 4.8 MB\n"
          ],
          "name": "stdout"
        }
      ]
    },
    {
      "cell_type": "code",
      "metadata": {
        "id": "2IvC1pJGMq1f"
      },
      "source": [
        "from sklearn.preprocessing import StandardScaler\n",
        "from sklearn import preprocessing\n",
        "from sklearn.model_selection import train_test_split\n",
        "\n",
        "x, y = nyc_deep_model.iloc[:,:-1], nyc_deep_model.iloc[:,-1]\n",
        "\n",
        "sc = StandardScaler()\n",
        "X_train = sc.fit_transform(x)\n",
        "\n",
        "X_train, X_test, y_train, y_test = train_test_split(x, y, test_size = 0.3, random_state = 0)"
      ],
      "execution_count": 82,
      "outputs": []
    },
    {
      "cell_type": "markdown",
      "metadata": {
        "id": "QQvDan47N7Hq"
      },
      "source": [
        "ANN"
      ]
    },
    {
      "cell_type": "code",
      "metadata": {
        "id": "wRyOgxjxM8IC"
      },
      "source": [
        "from keras.layers import Dense, Activation\n",
        "from keras.models import Sequential\n",
        "\n",
        "# Initialising the ANN\n",
        "model = Sequential()\n",
        "\n",
        "# Adding the input layer and the first hidden layer\n",
        "model.add(Dense(32, activation = 'relu', input_dim = 10))\n",
        "\n",
        "# Adding the second hidden layer\n",
        "model.add(Dense(units = 32, activation = 'relu'))\n",
        "\n",
        "# Adding the third hidden layer\n",
        "model.add(Dense(units = 32, activation = 'relu'))\n",
        "\n",
        "# Adding the output layer\n",
        "model.add(Dense(units = 1))\n",
        "model.compile(optimizer = 'adam',loss = 'mean_squared_error', metrics=['accuracy'])"
      ],
      "execution_count": 83,
      "outputs": []
    },
    {
      "cell_type": "code",
      "metadata": {
        "id": "LAo0WyyFODC_",
        "outputId": "96e1bb9f-9f85-4a32-9994-f587c42f17e4",
        "colab": {
          "base_uri": "https://localhost:8080/",
          "height": 1000
        }
      },
      "source": [
        "model.fit(X_train, y_train, batch_size = 10, epochs = 100)"
      ],
      "execution_count": 84,
      "outputs": [
        {
          "output_type": "stream",
          "text": [
            "Epoch 1/100\n",
            "3423/3423 [==============================] - 8s 2ms/step - loss: 0.8062 - accuracy: 0.0000e+00\n",
            "Epoch 2/100\n",
            "3423/3423 [==============================] - 8s 2ms/step - loss: 0.4274 - accuracy: 0.0000e+00\n",
            "Epoch 3/100\n",
            "3423/3423 [==============================] - 8s 2ms/step - loss: 0.3347 - accuracy: 0.0000e+00\n",
            "Epoch 4/100\n",
            "3423/3423 [==============================] - 8s 2ms/step - loss: 0.3215 - accuracy: 0.0000e+00\n",
            "Epoch 5/100\n",
            "3423/3423 [==============================] - 8s 2ms/step - loss: 0.3054 - accuracy: 0.0000e+00\n",
            "Epoch 6/100\n",
            "3423/3423 [==============================] - 8s 2ms/step - loss: 0.2953 - accuracy: 0.0000e+00\n",
            "Epoch 7/100\n",
            "3423/3423 [==============================] - 8s 2ms/step - loss: 0.2934 - accuracy: 0.0000e+00\n",
            "Epoch 8/100\n",
            "3423/3423 [==============================] - 8s 2ms/step - loss: 0.2895 - accuracy: 0.0000e+00\n",
            "Epoch 9/100\n",
            "3423/3423 [==============================] - 9s 3ms/step - loss: 0.2877 - accuracy: 0.0000e+00\n",
            "Epoch 10/100\n",
            "3423/3423 [==============================] - 8s 2ms/step - loss: 0.2856 - accuracy: 0.0000e+00\n",
            "Epoch 11/100\n",
            "3423/3423 [==============================] - 8s 2ms/step - loss: 0.2842 - accuracy: 0.0000e+00\n",
            "Epoch 12/100\n",
            "3423/3423 [==============================] - 8s 2ms/step - loss: 0.2824 - accuracy: 0.0000e+00\n",
            "Epoch 13/100\n",
            "3423/3423 [==============================] - 8s 2ms/step - loss: 0.2830 - accuracy: 0.0000e+00\n",
            "Epoch 14/100\n",
            "3423/3423 [==============================] - 8s 2ms/step - loss: 0.2828 - accuracy: 0.0000e+00\n",
            "Epoch 15/100\n",
            "3423/3423 [==============================] - 8s 2ms/step - loss: 0.2801 - accuracy: 0.0000e+00\n",
            "Epoch 16/100\n",
            "3423/3423 [==============================] - 8s 2ms/step - loss: 0.2803 - accuracy: 0.0000e+00\n",
            "Epoch 17/100\n",
            "3423/3423 [==============================] - 8s 2ms/step - loss: 0.2781 - accuracy: 0.0000e+00\n",
            "Epoch 18/100\n",
            "3423/3423 [==============================] - 8s 2ms/step - loss: 0.2774 - accuracy: 0.0000e+00\n",
            "Epoch 19/100\n",
            "3423/3423 [==============================] - 8s 2ms/step - loss: 0.2755 - accuracy: 0.0000e+00\n",
            "Epoch 20/100\n",
            "3423/3423 [==============================] - 8s 2ms/step - loss: 0.2764 - accuracy: 0.0000e+00\n",
            "Epoch 21/100\n",
            "3423/3423 [==============================] - 8s 2ms/step - loss: 0.2737 - accuracy: 0.0000e+00\n",
            "Epoch 22/100\n",
            "3423/3423 [==============================] - 8s 2ms/step - loss: 0.2723 - accuracy: 0.0000e+00\n",
            "Epoch 23/100\n",
            "3423/3423 [==============================] - 8s 2ms/step - loss: 0.2720 - accuracy: 0.0000e+00\n",
            "Epoch 24/100\n",
            "3423/3423 [==============================] - 8s 2ms/step - loss: 0.2726 - accuracy: 0.0000e+00\n",
            "Epoch 25/100\n",
            "3423/3423 [==============================] - 8s 2ms/step - loss: 0.2711 - accuracy: 0.0000e+00\n",
            "Epoch 26/100\n",
            "3423/3423 [==============================] - 8s 2ms/step - loss: 0.2700 - accuracy: 0.0000e+00\n",
            "Epoch 27/100\n",
            "3423/3423 [==============================] - 8s 2ms/step - loss: 0.2700 - accuracy: 0.0000e+00\n",
            "Epoch 28/100\n",
            "3423/3423 [==============================] - 8s 2ms/step - loss: 0.2677 - accuracy: 0.0000e+00\n",
            "Epoch 29/100\n",
            "3423/3423 [==============================] - 8s 2ms/step - loss: 0.2645 - accuracy: 0.0000e+00\n",
            "Epoch 30/100\n",
            "3423/3423 [==============================] - 8s 2ms/step - loss: 0.2626 - accuracy: 0.0000e+00\n",
            "Epoch 31/100\n",
            "3423/3423 [==============================] - 8s 2ms/step - loss: 0.2609 - accuracy: 0.0000e+00\n",
            "Epoch 32/100\n",
            "3423/3423 [==============================] - 8s 2ms/step - loss: 0.2576 - accuracy: 0.0000e+00\n",
            "Epoch 33/100\n",
            "3423/3423 [==============================] - 8s 2ms/step - loss: 0.2566 - accuracy: 0.0000e+00\n",
            "Epoch 34/100\n",
            "3423/3423 [==============================] - 8s 2ms/step - loss: 0.2542 - accuracy: 0.0000e+00\n",
            "Epoch 35/100\n",
            "3423/3423 [==============================] - 8s 2ms/step - loss: 0.2532 - accuracy: 0.0000e+00\n",
            "Epoch 36/100\n",
            "3423/3423 [==============================] - 8s 2ms/step - loss: 0.2521 - accuracy: 0.0000e+00\n",
            "Epoch 37/100\n",
            "3423/3423 [==============================] - 8s 2ms/step - loss: 0.2502 - accuracy: 0.0000e+00\n",
            "Epoch 38/100\n",
            "3423/3423 [==============================] - 8s 2ms/step - loss: 0.2492 - accuracy: 0.0000e+00\n",
            "Epoch 39/100\n",
            "3423/3423 [==============================] - 8s 2ms/step - loss: 0.2475 - accuracy: 0.0000e+00\n",
            "Epoch 40/100\n",
            "3423/3423 [==============================] - 8s 2ms/step - loss: 0.2472 - accuracy: 0.0000e+00\n",
            "Epoch 41/100\n",
            "3423/3423 [==============================] - 8s 2ms/step - loss: 0.2462 - accuracy: 0.0000e+00\n",
            "Epoch 42/100\n",
            "3423/3423 [==============================] - 8s 2ms/step - loss: 0.2462 - accuracy: 0.0000e+00\n",
            "Epoch 43/100\n",
            "3423/3423 [==============================] - 8s 2ms/step - loss: 0.2450 - accuracy: 0.0000e+00\n",
            "Epoch 44/100\n",
            "3423/3423 [==============================] - 8s 2ms/step - loss: 0.2495 - accuracy: 0.0000e+00\n",
            "Epoch 45/100\n",
            "3423/3423 [==============================] - 8s 2ms/step - loss: 0.2447 - accuracy: 0.0000e+00\n",
            "Epoch 46/100\n",
            "3423/3423 [==============================] - 8s 2ms/step - loss: 0.2479 - accuracy: 0.0000e+00\n",
            "Epoch 47/100\n",
            "3423/3423 [==============================] - 8s 2ms/step - loss: 0.2444 - accuracy: 0.0000e+00\n",
            "Epoch 48/100\n",
            "3423/3423 [==============================] - 8s 2ms/step - loss: 0.2441 - accuracy: 0.0000e+00\n",
            "Epoch 49/100\n",
            "3423/3423 [==============================] - 8s 2ms/step - loss: 0.2435 - accuracy: 0.0000e+00\n",
            "Epoch 50/100\n",
            "3423/3423 [==============================] - 8s 2ms/step - loss: 0.2435 - accuracy: 0.0000e+00\n",
            "Epoch 51/100\n",
            "3423/3423 [==============================] - 8s 2ms/step - loss: 0.2443 - accuracy: 0.0000e+00\n",
            "Epoch 52/100\n",
            "3423/3423 [==============================] - 8s 2ms/step - loss: 0.2433 - accuracy: 0.0000e+00\n",
            "Epoch 53/100\n",
            "3423/3423 [==============================] - 8s 2ms/step - loss: 0.2438 - accuracy: 0.0000e+00\n",
            "Epoch 54/100\n",
            "3423/3423 [==============================] - 8s 2ms/step - loss: 0.2422 - accuracy: 0.0000e+00\n",
            "Epoch 55/100\n",
            "3423/3423 [==============================] - 8s 2ms/step - loss: 0.2418 - accuracy: 0.0000e+00\n",
            "Epoch 56/100\n",
            "3423/3423 [==============================] - 8s 2ms/step - loss: 0.2423 - accuracy: 0.0000e+00\n",
            "Epoch 57/100\n",
            "3423/3423 [==============================] - 8s 2ms/step - loss: 0.2434 - accuracy: 0.0000e+00\n",
            "Epoch 58/100\n",
            "3423/3423 [==============================] - 8s 2ms/step - loss: 0.2426 - accuracy: 0.0000e+00\n",
            "Epoch 59/100\n",
            "3423/3423 [==============================] - 8s 2ms/step - loss: 0.2418 - accuracy: 0.0000e+00\n",
            "Epoch 60/100\n",
            "3423/3423 [==============================] - 8s 2ms/step - loss: 0.2408 - accuracy: 0.0000e+00\n",
            "Epoch 61/100\n",
            "3423/3423 [==============================] - 8s 2ms/step - loss: 0.2428 - accuracy: 0.0000e+00\n",
            "Epoch 62/100\n",
            "3423/3423 [==============================] - 8s 2ms/step - loss: 0.2411 - accuracy: 0.0000e+00\n",
            "Epoch 63/100\n",
            "3423/3423 [==============================] - 8s 2ms/step - loss: 0.2421 - accuracy: 0.0000e+00\n",
            "Epoch 64/100\n",
            "3423/3423 [==============================] - 8s 2ms/step - loss: 0.2404 - accuracy: 0.0000e+00\n",
            "Epoch 65/100\n",
            "3423/3423 [==============================] - 8s 2ms/step - loss: 0.2423 - accuracy: 0.0000e+00\n",
            "Epoch 66/100\n",
            "3423/3423 [==============================] - 8s 2ms/step - loss: 0.2411 - accuracy: 0.0000e+00\n",
            "Epoch 67/100\n",
            "3423/3423 [==============================] - 8s 2ms/step - loss: 0.2414 - accuracy: 0.0000e+00\n",
            "Epoch 68/100\n",
            "3423/3423 [==============================] - 8s 2ms/step - loss: 0.2411 - accuracy: 0.0000e+00\n",
            "Epoch 69/100\n",
            "3423/3423 [==============================] - 8s 2ms/step - loss: 0.2399 - accuracy: 0.0000e+00\n",
            "Epoch 70/100\n",
            "3423/3423 [==============================] - 8s 2ms/step - loss: 0.2422 - accuracy: 0.0000e+00\n",
            "Epoch 71/100\n",
            "3423/3423 [==============================] - 8s 2ms/step - loss: 0.2404 - accuracy: 0.0000e+00\n",
            "Epoch 72/100\n",
            "3423/3423 [==============================] - 8s 2ms/step - loss: 0.2412 - accuracy: 0.0000e+00\n",
            "Epoch 73/100\n",
            "3423/3423 [==============================] - 8s 2ms/step - loss: 0.2404 - accuracy: 0.0000e+00\n",
            "Epoch 74/100\n",
            "3423/3423 [==============================] - 8s 2ms/step - loss: 0.2402 - accuracy: 0.0000e+00\n",
            "Epoch 75/100\n",
            "3423/3423 [==============================] - 8s 2ms/step - loss: 0.2402 - accuracy: 0.0000e+00\n",
            "Epoch 76/100\n",
            "3423/3423 [==============================] - 8s 2ms/step - loss: 0.2417 - accuracy: 0.0000e+00\n",
            "Epoch 77/100\n",
            "3423/3423 [==============================] - 8s 2ms/step - loss: 0.2412 - accuracy: 0.0000e+00\n",
            "Epoch 78/100\n",
            "3423/3423 [==============================] - 8s 2ms/step - loss: 0.2411 - accuracy: 0.0000e+00\n",
            "Epoch 79/100\n",
            "3423/3423 [==============================] - 8s 2ms/step - loss: 0.2398 - accuracy: 0.0000e+00\n",
            "Epoch 80/100\n",
            "3423/3423 [==============================] - 8s 2ms/step - loss: 0.2392 - accuracy: 0.0000e+00\n",
            "Epoch 81/100\n",
            "3423/3423 [==============================] - 8s 2ms/step - loss: 0.2385 - accuracy: 0.0000e+00\n",
            "Epoch 82/100\n",
            "3423/3423 [==============================] - 8s 2ms/step - loss: 0.2385 - accuracy: 0.0000e+00\n",
            "Epoch 83/100\n",
            "3423/3423 [==============================] - 8s 2ms/step - loss: 0.2411 - accuracy: 0.0000e+00\n",
            "Epoch 84/100\n",
            "3423/3423 [==============================] - 8s 2ms/step - loss: 0.2382 - accuracy: 0.0000e+00\n",
            "Epoch 85/100\n",
            "3423/3423 [==============================] - 8s 2ms/step - loss: 0.2401 - accuracy: 0.0000e+00\n",
            "Epoch 86/100\n",
            "3423/3423 [==============================] - 8s 2ms/step - loss: 0.2398 - accuracy: 0.0000e+00\n",
            "Epoch 87/100\n",
            "3423/3423 [==============================] - 8s 2ms/step - loss: 0.2405 - accuracy: 0.0000e+00\n",
            "Epoch 88/100\n",
            "3423/3423 [==============================] - 9s 3ms/step - loss: 0.2386 - accuracy: 0.0000e+00\n",
            "Epoch 89/100\n",
            "3423/3423 [==============================] - 8s 2ms/step - loss: 0.2385 - accuracy: 0.0000e+00\n",
            "Epoch 90/100\n",
            "3423/3423 [==============================] - 8s 2ms/step - loss: 0.2393 - accuracy: 0.0000e+00\n",
            "Epoch 91/100\n",
            "3423/3423 [==============================] - 8s 2ms/step - loss: 0.2389 - accuracy: 0.0000e+00\n",
            "Epoch 92/100\n",
            "3423/3423 [==============================] - 8s 2ms/step - loss: 0.2389 - accuracy: 0.0000e+00\n",
            "Epoch 93/100\n",
            "3423/3423 [==============================] - 8s 2ms/step - loss: 0.2384 - accuracy: 0.0000e+00\n",
            "Epoch 94/100\n",
            "3423/3423 [==============================] - 8s 2ms/step - loss: 0.2391 - accuracy: 0.0000e+00\n",
            "Epoch 95/100\n",
            "3423/3423 [==============================] - 8s 2ms/step - loss: 0.2383 - accuracy: 0.0000e+00\n",
            "Epoch 96/100\n",
            "3423/3423 [==============================] - 8s 2ms/step - loss: 0.2375 - accuracy: 0.0000e+00\n",
            "Epoch 97/100\n",
            "3423/3423 [==============================] - 8s 2ms/step - loss: 0.2388 - accuracy: 0.0000e+00\n",
            "Epoch 98/100\n",
            "3423/3423 [==============================] - 8s 2ms/step - loss: 0.2379 - accuracy: 0.0000e+00\n",
            "Epoch 99/100\n",
            "3423/3423 [==============================] - 8s 2ms/step - loss: 0.2383 - accuracy: 0.0000e+00\n",
            "Epoch 100/100\n",
            "3423/3423 [==============================] - 8s 2ms/step - loss: 0.2385 - accuracy: 0.0000e+00\n"
          ],
          "name": "stdout"
        },
        {
          "output_type": "execute_result",
          "data": {
            "text/plain": [
              "<tensorflow.python.keras.callbacks.History at 0x7f1eb003b6d8>"
            ]
          },
          "metadata": {
            "tags": []
          },
          "execution_count": 84
        }
      ]
    },
    {
      "cell_type": "code",
      "metadata": {
        "id": "_fQn4XylOZX-",
        "outputId": "d7578064-0ad0-433b-8ad5-a08289d121fe",
        "colab": {
          "base_uri": "https://localhost:8080/",
          "height": 141
        }
      },
      "source": [
        "y_pred = model.predict(X_test)\n",
        "print(y_pred)"
      ],
      "execution_count": 85,
      "outputs": [
        {
          "output_type": "stream",
          "text": [
            "[[5.499497 ]\n",
            " [5.610182 ]\n",
            " [5.1617594]\n",
            " ...\n",
            " [4.7528477]\n",
            " [5.364662 ]\n",
            " [5.2509327]]\n"
          ],
          "name": "stdout"
        }
      ]
    },
    {
      "cell_type": "code",
      "metadata": {
        "id": "Uhb5_TK-O1SX",
        "outputId": "21f98828-5321-4088-acb0-3e97430a06d9",
        "colab": {
          "base_uri": "https://localhost:8080/",
          "height": 281
        }
      },
      "source": [
        "plt.plot(y_test, color = 'red', label = 'Real data')\n",
        "plt.plot(y_pred, color = 'blue', label = 'Predicted data')\n",
        "plt.title('Prediction')\n",
        "plt.legend()\n",
        "plt.show()"
      ],
      "execution_count": 86,
      "outputs": [
        {
          "output_type": "display_data",
          "data": {
            "image/png": "[encoded data removed]",
            "text/plain": [
              "<Figure size 432x288 with 1 Axes>"
            ]
          },
          "metadata": {
            "tags": [],
            "needs_background": "light"
          }
        }
      ]
    },
    {
      "cell_type": "code",
      "metadata": {
        "id": "ITyzuq4HO1xy",
        "outputId": "dd3ea18d-d384-4f0c-aaf8-9ab2494f9478",
        "colab": {
          "base_uri": "https://localhost:8080/",
          "height": 34
        }
      },
      "source": [
        "score = model.evaluate(x, y, verbose=0)\n",
        "score"
      ],
      "execution_count": 87,
      "outputs": [
        {
          "output_type": "execute_result",
          "data": {
            "text/plain": [
              "[0.2341189682483673, 0.0]"
            ]
          },
          "metadata": {
            "tags": []
          },
          "execution_count": 87
        }
      ]
    },
    {
      "cell_type": "code",
      "metadata": {
        "id": "WNZXIesDRClX",
        "outputId": "89a201b4-8ea8-4bcf-ecd7-4839710cba6a",
        "colab": {
          "base_uri": "https://localhost:8080/",
          "height": 230
        }
      },
      "source": [
        "y_test"
      ],
      "execution_count": 88,
      "outputs": [
        {
          "output_type": "execute_result",
          "data": {
            "text/plain": [
              "43813    5.420535\n",
              "32734    6.476972\n",
              "25276    5.707110\n",
              "36084    3.295837\n",
              "17736    4.836282\n",
              "           ...   \n",
              "48122    4.248495\n",
              "42652    5.398163\n",
              "22776    5.298317\n",
              "43308    5.017280\n",
              "3473     5.252273\n",
              "Name: price_log, Length: 14669, dtype: float64"
            ]
          },
          "metadata": {
            "tags": []
          },
          "execution_count": 88
        }
      ]
    },
    {
      "cell_type": "code",
      "metadata": {
        "id": "oMsk9eInbesB",
        "outputId": "8e67aed8-4221-40e8-a851-695fc878f5c0",
        "colab": {
          "base_uri": "https://localhost:8080/",
          "height": 141
        }
      },
      "source": [
        "y_pred"
      ],
      "execution_count": 89,
      "outputs": [
        {
          "output_type": "execute_result",
          "data": {
            "text/plain": [
              "array([[5.499497 ],\n",
              "       [5.610182 ],\n",
              "       [5.1617594],\n",
              "       ...,\n",
              "       [4.7528477],\n",
              "       [5.364662 ],\n",
              "       [5.2509327]], dtype=float32)"
            ]
          },
          "metadata": {
            "tags": []
          },
          "execution_count": 89
        }
      ]
    },
    {
      "cell_type": "code",
      "metadata": {
        "id": "USi9UbUXbg1d"
      },
      "source": [
        ""
      ],
      "execution_count": 89,
      "outputs": []
    }
  ]
}